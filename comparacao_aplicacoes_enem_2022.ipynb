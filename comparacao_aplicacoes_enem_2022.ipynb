{
 "cells": [
  {
   "cell_type": "markdown",
   "id": "0eac4292",
   "metadata": {},
   "source": [
    "## A - Contextualização"
   ]
  },
  {
   "cell_type": "markdown",
   "id": "c08d420b",
   "metadata": {},
   "source": [
    "### Exame Nacional do Ensino Médio (Enem)\n",
    "O Exame Nacional do Ensino Médio (Enem) foi instituído em 1998, com o objetivo de avaliar o desempenho escolar dos estudantes ao término da educação básica. Em 2009, o exame aperfeiçoou sua metodologia e passou a ser utilizado como mecanismo de acesso à educação superior.\n",
    "<br>\n",
    "\n",
    "Os participantes fazem provas de quatro áreas de conhecimento: linguagens, códigos e suas tecnologias; ciências humanas e suas tecnologias; ciências da natureza e suas tecnologias; e matemática e suas tecnologias, que ao todo somam 180 questões objetivas. Os participantes também são avaliados por meio de uma redação, que exige o desenvolvimento de um texto dissertativo-argumentativo a partir de uma situação-problema.\n",
    "<br>\n",
    "\n",
    "Fonte: https://www.gov.br/inep/pt-br/areas-de-atuacao/avaliacao-e-exames-educacionais/enem"
   ]
  },
  {
   "cell_type": "markdown",
   "id": "4d42bafd",
   "metadata": {},
   "source": [
    "### Teoria de Resposta ao Item (TRI)\n",
    "\n",
    "De acordo com o \"Guia do Participante – Entenda a sua nota no Enem\", disponível para download no link abaixo: \n",
    "\n",
    "- Os procedimentos de cálculo das notas dos participantes e de análise dos itens no Enem têm como base a Teoria de Resposta ao Item (TRI). A TRI é um conjunto de modelos matemáticos que busca representar a relação entre a probabilidade de o participante responder corretamente a uma questão, seu conhecimento na área em que está sendo avaliado e as características (parâmetros)\n",
    "dos itens.\n",
    "<br>\n",
    "\n",
    "- Um aspecto importante da TRI é que ela considera a particularidade de cada item. Assim, as notas não dependem do total de itens da prova, mas de cada item que a compõe. Dessa forma, duas pessoas com a mesma quantidade de acertos na prova são avaliadas de forma distinta a depender de quais itens estão certos e errados e podem, assim, ter notas diferentes. Além disso, considera a coerência das respostas do participante ao conjunto das questões que formam a prova. A nota é atribuída em uma métrica (escala) criada pelo Inep especialmente para o Enem, com o objetivo de medir o conhecimento (proficiência) do participante nas quatro áreas de conhecimento.\n",
    "<br>\n",
    "\n",
    "- Uma das vantagens de se utilizar a TRI é que sua nota nos possibilita fazer comparações entre notas de diferentes provas da mesma área, enquanto que os acertos de provas diferentes não são diretamente comparáveis.\n",
    "\n",
    "Link para download do \"Guia do Participante – Entenda a sua nota no Enem\": https://download.inep.gov.br/publicacoes/institucionais/avaliacoes_e_exames_da_educacao_basica/entenda_a_sua_nota_no_enem_guia_do_participante.pdf"
   ]
  },
  {
   "cell_type": "markdown",
   "id": "5070d9fa",
   "metadata": {},
   "source": [
    "### Reaplicação do Enem 2022\n",
    "\n",
    "As provas do Enem 2022 foram realizadas nos dias 13 e 20 de novembro de 2022. Contudo, estudantes que tiveram algum tipo de problema logístico no dia da aplicação regular ou que estavam acometidos por doenças infectocontagiosas realizaram a reaplicação do Enem 2022, que ocorreu nos dias 10 e 11 de janeiro de 2023.\n",
    "<br>\n",
    "\n",
    "No total, 3.251 participantes do Enem 2022 tiveram deferidos os seus pedidos para realizar a prova de reaplicação.\n",
    "<br>\n",
    "\n",
    "Fonte: https://www.gov.br/mec/pt-br/assuntos/noticias/2023/janeiro/enem-2022-sera-reaplicado-nos-proximos-dias-10-e-11-de-janeiro"
   ]
  },
  {
   "cell_type": "markdown",
   "id": "2d708a51",
   "metadata": {},
   "source": [
    "---"
   ]
  },
  {
   "cell_type": "markdown",
   "id": "7e531fc4",
   "metadata": {},
   "source": [
    "## B - Hipótese"
   ]
  },
  {
   "cell_type": "markdown",
   "id": "91ae7f3e",
   "metadata": {},
   "source": [
    "### Motivação\n",
    "\n",
    "O ENEM é o principal mecanismo de acesso à educação superior no Brasil. A TRI, procedimento de cálculo das notas dos participantes, possibilita fazer comparações entre notas de diferentes provas da mesma área. A comparabilidade é característica fundamental do procedimento de avaliação, pois garante, em tese, que estudantes que realizaram diferentes provas obtenham resultados corentes com seus conhecimentos (proficiência) e possam disputar entre si as vagas oferecidas pelas instituições de ensino superior do país."
   ]
  },
  {
   "cell_type": "markdown",
   "id": "cea97406",
   "metadata": {},
   "source": [
    "### Hipótese\n",
    "Os resultados obtidos pelos participantes da aplicação regular do ENEM 2022 são comparáveis com os resultados obtidos pelos partipantes que realizaram a reaplicação.\n",
    "<br>\n",
    "> **H0: média das notas da aplicação regular = média das notas da reaplicação**\n",
    "<br>\n",
    "**H1: média das notas da aplicação regular $\\neq$ média das notas da reaplicação**"
   ]
  },
  {
   "cell_type": "markdown",
   "id": "be103d21",
   "metadata": {},
   "source": [
    "---"
   ]
  },
  {
   "cell_type": "markdown",
   "id": "f4e875c6",
   "metadata": {},
   "source": [
    "## C - Dados"
   ]
  },
  {
   "cell_type": "markdown",
   "id": "17958e53",
   "metadata": {},
   "source": [
    "### Microdados do Enem\n",
    "Os microdados do Enem são o menor nível de desagregação de dados recolhidos por meio do exame. Eles atendem a demanda por informações específicas ao disponibilizar as provas, os gabaritos, as informações sobre os itens, as notas e o questionário respondido pelos inscritos no Enem.\n",
    "<br>\n",
    "\n",
    "Fonte: https://www.gov.br/inep/pt-br/acesso-a-informacao/dados-abertos/microdados/enem\n",
    "<br>\n",
    "\n",
    "Link para download dos microdados relativos ao Enem 2022: https://download.inep.gov.br/microdados/microdados_enem_2022.zip\n",
    "<br>\n",
    "\n",
    "Os microdados do Enem estão organizados nas seguintes sessões:\n",
    ">1) Dados do participante\n",
    "2) Dados da Escola\n",
    "3) Dados do local de aplicação da prova\n",
    "4) Dados da prova objetiva\n",
    "5) Dados da redação\n",
    "6) Dados do questionário socioeconômico"
   ]
  },
  {
   "cell_type": "markdown",
   "id": "33d17d0b",
   "metadata": {},
   "source": [
    "### Dados da prova objetiva\n",
    "\n",
    "Os dados da prova objetiva são compostos pelos seguintes campos:\n",
    "\n",
    "- **TP_PRESENCA_CN, TP_PRESENCA_CH, TP_PRESENCA_LC, TP_PRESENCA_MT:** indicam a presença nas provas objetivas de Ciências da Natureza, Ciência Humanas, Linguagens e Códigos e Matemática, respectivamente. São campos numéricos que pode assumir os seguintes valores:\n",
    "> - 0: faltou à prova\n",
    "> - 1: presente na prova\n",
    "> - 2: eliminado na prova\n",
    "\n",
    "- **CO_PROVA_CN, CO_PROVA_CH, CO_PROVA_LC, CO_PROVA_MT:** códigos numéricos dos tipos de prova de Ciências da Natureza, Ciência Humanas, Linguagens e Códigos e Matemática, respectivamente.\n",
    "\n",
    "CO_PROVA_CN | CO_PROVA_CH | CO_PROVA_LC | CO_PROVA_MT\n",
    ":---|:---|:---|:---\n",
    "1085: Azul | 1055: Azul | 1065: Azul | 1075: Azul\n",
    "1086: Amarela | 1056: Amarela | 1066: Amarela | 1076: Amarela\n",
    "1087: Cinza | 1057: Branca | 1067: Rosa | 1077: Rosa\n",
    "1088: Rosa | 1058: Rosa | 1068: Branca | 1078: Cinza\n",
    "1092: Laranja - Adaptada Ledor | 1062: Laranja - Adaptada Ledor | 1072: Laranja - Adaptada Ledor | 1082: Laranja - Adaptada Ledor\n",
    "1093: Verde - Videoprova - Libras | 1063: Verde - Videoprova - Libras | 1073: Verde - Videoprova - Libras | 1083: Verde - Videoprova - Libras\n",
    "1165: Azul (Reaplicação) | 1135: Azul (Reaplicação) | 1145: Azul (Reaplicação) | 1155: Azul (Reaplicação)\n",
    "1166: Amarela (Reaplicação) | 1136: Amarela (Reaplicação) | 1146: Amarela (Reaplicação) | 1156: Amarela (Reaplicação)\n",
    "1167: Cinza (Reaplicação) | 1137: Branca (Reaplicação) | 1147: Rosa (Reaplicação) | 1157: Rosa (Reaplicação)\n",
    "1168: Rosa (Reaplicação) | 1138: Rosa (Reaplicação) | 1148: Branca (Reaplicação) | 1158: Cinza (Reaplicação)\n",
    "1187: Azul (Digital) | 1175: Azul (Digital) | 1179: Azul (Digital) | 1183: Azul (Digital)\n",
    "1188: Amarela (Digital) | 1176: Amarela (Digital) | 1180: Amarela (Digital) | 1184: Amarela (Digital)\n",
    "1189: Rosa (Digital) | 1177: Branca (Digital) | 1181: Branca (Digital) | 1185: Rosa (Digital)\n",
    "1190: Cinza (Digital) | 1178: Rosa (Digital) | 1182: Rosa (Digital) | 1186: Cinza (Digital)\n",
    "\n",
    "- **NU_NOTA_CN, NU_NOTA_CH, NU_NOTA_LC, NU_NOTA_MT:** notas das provas de Ciências da Natureza, Ciência Humanas, Linguagens e Códigos e Matemática, respectivamente.\n",
    "<br>\n",
    "\n",
    "- **TX_RESPOSTAS_CN, TX_RESPOSTAS_CH, TX_RESPOSTAS_LC, TX_RESPOSTAS_MT:** vetores com as respostas da parte objetiva das prova de Ciências da Natureza, Ciência Humanas, Linguagens e Códigos e Matemática, respectivamente.\n",
    "> São formados por 45 dígitos alfanuméricos com os valores: A, B, C, D, E, * (dupla marcação) ou . (em branco).\n",
    "\n",
    "- **TP_LINGUA:** lingua estrangeira, sendo 0 para língua inglesa e 1 para língua espanhola.\n",
    "<br>\n",
    "\n",
    "- **TX_GABARITO_CN, TX_GABARITO_CH, TX_GABARITO_LC, TX_GABARITO_MT:** vetores com os gabaritos da parte objetiva das prova de Ciências da Natureza, Ciência Humanas, Linguagens e Códigos e Matemática, respectivamente.\n",
    "> - São formados por 45 dígitos alfanuméricos com os valores: A, B, C, D, E, * (dupla marcação) ou . (em branco).\n",
    "> - As 50 primeiras posições do campo TX_GABARITO_LC são referentes ao respectivo gabarito, das quais, para as 10 primeiras, as 5 primeiras correspondem à prova de Lingua Inglesa e as outras 5 à prova de Lingua Espanhola."
   ]
  },
  {
   "cell_type": "markdown",
   "id": "0238a424",
   "metadata": {},
   "source": [
    "### Dados selecionados para análise\n",
    "\n",
    "Para realização do presente estudo, utilizaremos as notas obtidas pelos participantes nas provas de cor AZUL da aplicação regular e da reaplicação.\n",
    "<br>\n",
    "\n",
    "Os códigos das provas selecionadas são os seguintes:\n",
    "\n",
    "- Ciências da Natureza:\n",
    "> - 1085: aplicação regular\n",
    "> - 1165: reaplicação\n",
    "\n",
    "- Ciências Humanas:\n",
    "> - 1055: aplicação regular\n",
    "> - 1135: reaplicação\n",
    "\n",
    "- Linguagens e Códigos:\n",
    "> - 1065: aplicação regular\n",
    "> - 1145: reaplicação\n",
    "\n",
    "- Matemática:\n",
    "> - 1075: aplicação regular\n",
    "> - 1155: reaplicação"
   ]
  },
  {
   "cell_type": "markdown",
   "id": "67d8c067",
   "metadata": {},
   "source": [
    "---"
   ]
  },
  {
   "cell_type": "markdown",
   "id": "a15f61c9",
   "metadata": {},
   "source": [
    "## D - Análise estatística"
   ]
  },
  {
   "cell_type": "markdown",
   "id": "664e1e78",
   "metadata": {},
   "source": [
    "### 1. Carregamento das bibliotecas "
   ]
  },
  {
   "cell_type": "code",
   "execution_count": 1,
   "id": "6f973a66",
   "metadata": {},
   "outputs": [],
   "source": [
    "import pandas as pd\n",
    "import numpy as np\n",
    "import matplotlib.pyplot as plt\n",
    "from scipy import stats"
   ]
  },
  {
   "cell_type": "markdown",
   "id": "b3d87a2d",
   "metadata": {},
   "source": [
    "### 2. Carregamento da base de dados do Enem 2022 e separação das colunas relativas à prova objetiva"
   ]
  },
  {
   "cell_type": "code",
   "execution_count": 2,
   "id": "650d8348",
   "metadata": {},
   "outputs": [],
   "source": [
    "df_microdados_enem_2022 = pd.read_csv(\"microdados_enem_2022\\DADOS\\MICRODADOS_ENEM_2022.csv\", delimiter=\";\", encoding_errors=\"backslashreplace\")"
   ]
  },
  {
   "cell_type": "code",
   "execution_count": 3,
   "id": "0872d0c0",
   "metadata": {},
   "outputs": [
    {
     "data": {
      "text/plain": [
       "(3476105, 76)"
      ]
     },
     "execution_count": 3,
     "metadata": {},
     "output_type": "execute_result"
    }
   ],
   "source": [
    "df_microdados_enem_2022.shape"
   ]
  },
  {
   "cell_type": "code",
   "execution_count": 4,
   "id": "648de06c",
   "metadata": {},
   "outputs": [
    {
     "data": {
      "text/plain": [
       "Index(['NU_INSCRICAO', 'NU_ANO', 'TP_FAIXA_ETARIA', 'TP_SEXO',\n",
       "       'TP_ESTADO_CIVIL', 'TP_COR_RACA', 'TP_NACIONALIDADE', 'TP_ST_CONCLUSAO',\n",
       "       'TP_ANO_CONCLUIU', 'TP_ESCOLA', 'TP_ENSINO', 'IN_TREINEIRO',\n",
       "       'CO_MUNICIPIO_ESC', 'NO_MUNICIPIO_ESC', 'CO_UF_ESC', 'SG_UF_ESC',\n",
       "       'TP_DEPENDENCIA_ADM_ESC', 'TP_LOCALIZACAO_ESC', 'TP_SIT_FUNC_ESC',\n",
       "       'CO_MUNICIPIO_PROVA', 'NO_MUNICIPIO_PROVA', 'CO_UF_PROVA',\n",
       "       'SG_UF_PROVA', 'TP_PRESENCA_CN', 'TP_PRESENCA_CH', 'TP_PRESENCA_LC',\n",
       "       'TP_PRESENCA_MT', 'CO_PROVA_CN', 'CO_PROVA_CH', 'CO_PROVA_LC',\n",
       "       'CO_PROVA_MT', 'NU_NOTA_CN', 'NU_NOTA_CH', 'NU_NOTA_LC', 'NU_NOTA_MT',\n",
       "       'TX_RESPOSTAS_CN', 'TX_RESPOSTAS_CH', 'TX_RESPOSTAS_LC',\n",
       "       'TX_RESPOSTAS_MT', 'TP_LINGUA', 'TX_GABARITO_CN', 'TX_GABARITO_CH',\n",
       "       'TX_GABARITO_LC', 'TX_GABARITO_MT', 'TP_STATUS_REDACAO',\n",
       "       'NU_NOTA_COMP1', 'NU_NOTA_COMP2', 'NU_NOTA_COMP3', 'NU_NOTA_COMP4',\n",
       "       'NU_NOTA_COMP5', 'NU_NOTA_REDACAO', 'Q001', 'Q002', 'Q003', 'Q004',\n",
       "       'Q005', 'Q006', 'Q007', 'Q008', 'Q009', 'Q010', 'Q011', 'Q012', 'Q013',\n",
       "       'Q014', 'Q015', 'Q016', 'Q017', 'Q018', 'Q019', 'Q020', 'Q021', 'Q022',\n",
       "       'Q023', 'Q024', 'Q025'],\n",
       "      dtype='object')"
      ]
     },
     "execution_count": 4,
     "metadata": {},
     "output_type": "execute_result"
    }
   ],
   "source": [
    "df_microdados_enem_2022.columns"
   ]
  },
  {
   "cell_type": "code",
   "execution_count": 5,
   "id": "eae68fcc",
   "metadata": {},
   "outputs": [],
   "source": [
    "df_prova_objetiva = df_microdados_enem_2022[[\n",
    "        'TP_PRESENCA_CN', 'TP_PRESENCA_CH', 'TP_PRESENCA_LC', 'TP_PRESENCA_MT',\n",
    "        'CO_PROVA_CN', 'CO_PROVA_CH', 'CO_PROVA_LC', 'CO_PROVA_MT',\n",
    "        'NU_NOTA_CN', 'NU_NOTA_CH', 'NU_NOTA_LC', 'NU_NOTA_MT',\n",
    "        'TX_RESPOSTAS_CN', 'TX_RESPOSTAS_CH', 'TX_RESPOSTAS_LC', 'TX_RESPOSTAS_MT',\n",
    "        'TP_LINGUA',\n",
    "        'TX_GABARITO_CN', 'TX_GABARITO_CH', 'TX_GABARITO_LC', 'TX_GABARITO_MT']]"
   ]
  },
  {
   "cell_type": "code",
   "execution_count": 6,
   "id": "3228a7de",
   "metadata": {},
   "outputs": [],
   "source": [
    "del df_microdados_enem_2022"
   ]
  },
  {
   "cell_type": "markdown",
   "id": "2a51d62e",
   "metadata": {},
   "source": [
    "### Nota sobre a obtenção e tratamento dos dados referentes às provas selecionadas para análise\n",
    "- Os dados de cada prova serão filtrados pelo código e serão mantidas somente as colunas referentes à área de conhecimento correspondente.\n",
    "- Serão eliminados os registros de participantes faltantes (TP_PRESENCA_CN = 0) ou eliminados (TP_PRESENCA_CN = 2).\n",
    "- Um aspecto do modelo de TRI utilizado no Enem é não ter um limite padrão inferior ou superior. Isso significa que as notas dos participantes não variam entre zero e mil. Os valores máximos e mínimos de cada prova dependerão das características dos itens selecionados. Dessa forma, os valores incoerentes com o modelo serão analisados e tratados.\n"
   ]
  },
  {
   "cell_type": "markdown",
   "id": "0c7ea654",
   "metadata": {},
   "source": [
    "---"
   ]
  },
  {
   "cell_type": "markdown",
   "id": "bda6e6aa",
   "metadata": {},
   "source": [
    "### 3. Ciências da Natureza"
   ]
  },
  {
   "cell_type": "markdown",
   "id": "953d9be0",
   "metadata": {},
   "source": [
    "### 3.1. Descrição dos dados nas provas de Ciências da Natureza"
   ]
  },
  {
   "cell_type": "markdown",
   "id": "c6a437e6",
   "metadata": {},
   "source": [
    "**Aplicação regular (prova código 1085)**\n",
    "<br>\n",
    "Colunas: TP_PRESENCA_CN, CO_PROVA_CN, NU_NOTA_CN, TX_RESPOSTAS_CN, TX_GABARITO_CN"
   ]
  },
  {
   "cell_type": "code",
   "execution_count": 7,
   "id": "25ba3855",
   "metadata": {
    "scrolled": true
   },
   "outputs": [
    {
     "data": {
      "text/html": [
       "<div>\n",
       "<style scoped>\n",
       "    .dataframe tbody tr th:only-of-type {\n",
       "        vertical-align: middle;\n",
       "    }\n",
       "\n",
       "    .dataframe tbody tr th {\n",
       "        vertical-align: top;\n",
       "    }\n",
       "\n",
       "    .dataframe thead th {\n",
       "        text-align: right;\n",
       "    }\n",
       "</style>\n",
       "<table border=\"1\" class=\"dataframe\">\n",
       "  <thead>\n",
       "    <tr style=\"text-align: right;\">\n",
       "      <th></th>\n",
       "      <th>TP_PRESENCA_CN</th>\n",
       "      <th>CO_PROVA_CN</th>\n",
       "      <th>NU_NOTA_CN</th>\n",
       "      <th>TX_RESPOSTAS_CN</th>\n",
       "      <th>TX_GABARITO_CN</th>\n",
       "    </tr>\n",
       "  </thead>\n",
       "  <tbody>\n",
       "    <tr>\n",
       "      <th>31</th>\n",
       "      <td>1</td>\n",
       "      <td>1085.0</td>\n",
       "      <td>385.5</td>\n",
       "      <td>DAEDDEEBDCEBACCEADEAACBADCCBAEEDCADEDBDAACECD</td>\n",
       "      <td>ADBADABEABCEEEACCBDDADDCBBCCAEBAEBEBEACCCDDDE</td>\n",
       "    </tr>\n",
       "    <tr>\n",
       "      <th>33</th>\n",
       "      <td>1</td>\n",
       "      <td>1085.0</td>\n",
       "      <td>495.0</td>\n",
       "      <td>EDEABCEACDEBBECDDCDCACCDECDBCDADCDCBDDBACCDCE</td>\n",
       "      <td>ADBADABEABCEEEACCBDDADDCBBCCAEBAEBEBEACCCDDDE</td>\n",
       "    </tr>\n",
       "    <tr>\n",
       "      <th>36</th>\n",
       "      <td>1</td>\n",
       "      <td>1085.0</td>\n",
       "      <td>466.9</td>\n",
       "      <td>DBEBACDEAECBCEDBEBCEDCDEBAEEADBAABDDADBDCEAEB</td>\n",
       "      <td>ADBADABEABCEEEACCBDDADDCBBCCAEBAEBEBEACCCDDDE</td>\n",
       "    </tr>\n",
       "    <tr>\n",
       "      <th>37</th>\n",
       "      <td>1</td>\n",
       "      <td>1085.0</td>\n",
       "      <td>504.7</td>\n",
       "      <td>ACCABECAEBBBBCCEEBBEACDCBCCCEDBBCDCCACADCAECE</td>\n",
       "      <td>ADBADABEABCEEEACCBDDADDCBBCCAEBAEBEBEACCCDDDE</td>\n",
       "    </tr>\n",
       "    <tr>\n",
       "      <th>38</th>\n",
       "      <td>1</td>\n",
       "      <td>1085.0</td>\n",
       "      <td>386.0</td>\n",
       "      <td>EBBAACEAECBBDCEDCBDABADDDACECDBEACECDBDDACADD</td>\n",
       "      <td>ADBADABEABCEEEACCBDDADDCBBCCAEBAEBEBEACCCDDDE</td>\n",
       "    </tr>\n",
       "  </tbody>\n",
       "</table>\n",
       "</div>"
      ],
      "text/plain": [
       "    TP_PRESENCA_CN  CO_PROVA_CN  NU_NOTA_CN  \\\n",
       "31               1       1085.0       385.5   \n",
       "33               1       1085.0       495.0   \n",
       "36               1       1085.0       466.9   \n",
       "37               1       1085.0       504.7   \n",
       "38               1       1085.0       386.0   \n",
       "\n",
       "                                  TX_RESPOSTAS_CN  \\\n",
       "31  DAEDDEEBDCEBACCEADEAACBADCCBAEEDCADEDBDAACECD   \n",
       "33  EDEABCEACDEBBECDDCDCACCDECDBCDADCDCBDDBACCDCE   \n",
       "36  DBEBACDEAECBCEDBEBCEDCDEBAEEADBAABDDADBDCEAEB   \n",
       "37  ACCABECAEBBBBCCEEBBEACDCBCCCEDBBCDCCACADCAECE   \n",
       "38  EBBAACEAECBBDCEDCBDABADDDACECDBEACECDBDDACADD   \n",
       "\n",
       "                                   TX_GABARITO_CN  \n",
       "31  ADBADABEABCEEEACCBDDADDCBBCCAEBAEBEBEACCCDDDE  \n",
       "33  ADBADABEABCEEEACCBDDADDCBBCCAEBAEBEBEACCCDDDE  \n",
       "36  ADBADABEABCEEEACCBDDADDCBBCCAEBAEBEBEACCCDDDE  \n",
       "37  ADBADABEABCEEEACCBDDADDCBBCCAEBAEBEBEACCCDDDE  \n",
       "38  ADBADABEABCEEEACCBDDADDCBBCCAEBAEBEBEACCCDDDE  "
      ]
     },
     "metadata": {},
     "output_type": "display_data"
    },
    {
     "name": "stdout",
     "output_type": "stream",
     "text": [
      "Formato: (578780, 5)\n"
     ]
    }
   ],
   "source": [
    "prova_cn_aplicacao_regular = df_prova_objetiva[df_prova_objetiva['CO_PROVA_CN'] == 1085]\n",
    "prova_cn_aplicacao_regular = prova_cn_aplicacao_regular[['TP_PRESENCA_CN', 'CO_PROVA_CN', 'NU_NOTA_CN', 'TX_RESPOSTAS_CN', 'TX_GABARITO_CN']]\n",
    "display(prova_cn_aplicacao_regular.head())\n",
    "print(f'Formato: {prova_cn_aplicacao_regular.shape}')"
   ]
  },
  {
   "cell_type": "code",
   "execution_count": 8,
   "id": "122ce9f0",
   "metadata": {},
   "outputs": [
    {
     "data": {
      "text/plain": [
       "TP_PRESENCA_CN\n",
       "1    578780\n",
       "Name: count, dtype: int64"
      ]
     },
     "execution_count": 8,
     "metadata": {},
     "output_type": "execute_result"
    }
   ],
   "source": [
    "# Não há registros de participantes faltantes ou eliminados\n",
    "prova_cn_aplicacao_regular['TP_PRESENCA_CN'].value_counts()"
   ]
  },
  {
   "cell_type": "code",
   "execution_count": 9,
   "id": "417994da",
   "metadata": {},
   "outputs": [
    {
     "data": {
      "text/plain": [
       "count    578780.000000\n",
       "mean        496.602521\n",
       "std          71.163662\n",
       "min           0.000000\n",
       "25%         442.100000\n",
       "50%         487.100000\n",
       "75%         543.200000\n",
       "max         859.200000\n",
       "Name: NU_NOTA_CN, dtype: float64"
      ]
     },
     "execution_count": 9,
     "metadata": {},
     "output_type": "execute_result"
    }
   ],
   "source": [
    "# Medidas estatísticas das notas\n",
    "prova_cn_aplicacao_regular['NU_NOTA_CN'].describe()"
   ]
  },
  {
   "cell_type": "markdown",
   "id": "2aa27d24",
   "metadata": {},
   "source": [
    "O valor mínimo igual a zero é incoerente com o modelo da TRI. O vetor de respostas dos participantes que obtiveram nota 0 está preenchido integralmente com ponto (.), que corresponde a gabarito em branco. De acordo com o \"Guia do Participante - Entenda a sua nota no Enem\", uma questão deixada em branco é corrigida como errada. Mesmo que o participante erre todas as questões, tendo em vista a utilização da TRI, sua nota não é igual zero."
   ]
  },
  {
   "cell_type": "code",
   "execution_count": 10,
   "id": "75f65411",
   "metadata": {},
   "outputs": [
    {
     "data": {
      "text/html": [
       "<div>\n",
       "<style scoped>\n",
       "    .dataframe tbody tr th:only-of-type {\n",
       "        vertical-align: middle;\n",
       "    }\n",
       "\n",
       "    .dataframe tbody tr th {\n",
       "        vertical-align: top;\n",
       "    }\n",
       "\n",
       "    .dataframe thead th {\n",
       "        text-align: right;\n",
       "    }\n",
       "</style>\n",
       "<table border=\"1\" class=\"dataframe\">\n",
       "  <thead>\n",
       "    <tr style=\"text-align: right;\">\n",
       "      <th></th>\n",
       "      <th>TP_PRESENCA_CN</th>\n",
       "      <th>CO_PROVA_CN</th>\n",
       "      <th>NU_NOTA_CN</th>\n",
       "      <th>TX_RESPOSTAS_CN</th>\n",
       "      <th>TX_GABARITO_CN</th>\n",
       "    </tr>\n",
       "  </thead>\n",
       "  <tbody>\n",
       "    <tr>\n",
       "      <th>25601</th>\n",
       "      <td>1</td>\n",
       "      <td>1085.0</td>\n",
       "      <td>0.0</td>\n",
       "      <td>.............................................</td>\n",
       "      <td>ADBADABEABCEEEACCBDDADDCBBCCAEBAEBEBEACCCDDDE</td>\n",
       "    </tr>\n",
       "    <tr>\n",
       "      <th>106581</th>\n",
       "      <td>1</td>\n",
       "      <td>1085.0</td>\n",
       "      <td>0.0</td>\n",
       "      <td>.............................................</td>\n",
       "      <td>ADBADABEABCEEEACCBDDADDCBBCCAEBAEBEBEACCCDDDE</td>\n",
       "    </tr>\n",
       "    <tr>\n",
       "      <th>119854</th>\n",
       "      <td>1</td>\n",
       "      <td>1085.0</td>\n",
       "      <td>0.0</td>\n",
       "      <td>.............................................</td>\n",
       "      <td>ADBADABEABCEEEACCBDDADDCBBCCAEBAEBEBEACCCDDDE</td>\n",
       "    </tr>\n",
       "    <tr>\n",
       "      <th>367462</th>\n",
       "      <td>1</td>\n",
       "      <td>1085.0</td>\n",
       "      <td>0.0</td>\n",
       "      <td>.............................................</td>\n",
       "      <td>ADBADABEABCEEEACCBDDADDCBBCCAEBAEBEBEACCCDDDE</td>\n",
       "    </tr>\n",
       "    <tr>\n",
       "      <th>417550</th>\n",
       "      <td>1</td>\n",
       "      <td>1085.0</td>\n",
       "      <td>0.0</td>\n",
       "      <td>.............................................</td>\n",
       "      <td>ADBADABEABCEEEACCBDDADDCBBCCAEBAEBEBEACCCDDDE</td>\n",
       "    </tr>\n",
       "  </tbody>\n",
       "</table>\n",
       "</div>"
      ],
      "text/plain": [
       "        TP_PRESENCA_CN  CO_PROVA_CN  NU_NOTA_CN  \\\n",
       "25601                1       1085.0         0.0   \n",
       "106581               1       1085.0         0.0   \n",
       "119854               1       1085.0         0.0   \n",
       "367462               1       1085.0         0.0   \n",
       "417550               1       1085.0         0.0   \n",
       "\n",
       "                                      TX_RESPOSTAS_CN  \\\n",
       "25601   .............................................   \n",
       "106581  .............................................   \n",
       "119854  .............................................   \n",
       "367462  .............................................   \n",
       "417550  .............................................   \n",
       "\n",
       "                                       TX_GABARITO_CN  \n",
       "25601   ADBADABEABCEEEACCBDDADDCBBCCAEBAEBEBEACCCDDDE  \n",
       "106581  ADBADABEABCEEEACCBDDADDCBBCCAEBAEBEBEACCCDDDE  \n",
       "119854  ADBADABEABCEEEACCBDDADDCBBCCAEBAEBEBEACCCDDDE  \n",
       "367462  ADBADABEABCEEEACCBDDADDCBBCCAEBAEBEBEACCCDDDE  \n",
       "417550  ADBADABEABCEEEACCBDDADDCBBCCAEBAEBEBEACCCDDDE  "
      ]
     },
     "metadata": {},
     "output_type": "display_data"
    },
    {
     "name": "stdout",
     "output_type": "stream",
     "text": [
      "Formato: (120, 5)\n"
     ]
    }
   ],
   "source": [
    "display(prova_cn_aplicacao_regular[prova_cn_aplicacao_regular['NU_NOTA_CN'] == 0].head())\n",
    "print(f'Formato:', prova_cn_aplicacao_regular[prova_cn_aplicacao_regular['NU_NOTA_CN'] == 0].shape)"
   ]
  },
  {
   "cell_type": "code",
   "execution_count": 11,
   "id": "6dfe20d5",
   "metadata": {},
   "outputs": [
    {
     "data": {
      "text/plain": [
       "TX_RESPOSTAS_CN\n",
       ".............................................    120\n",
       "Name: count, dtype: int64"
      ]
     },
     "execution_count": 11,
     "metadata": {},
     "output_type": "execute_result"
    }
   ],
   "source": [
    "# Todas os registros com nota igual a 0 tem o campo TX_RESPOSTAS_CH preenchido somente com ponto (.).\n",
    "prova_cn_aplicacao_regular[prova_cn_aplicacao_regular['NU_NOTA_CN'] == 0]['TX_RESPOSTAS_CN'] .value_counts()"
   ]
  },
  {
   "cell_type": "code",
   "execution_count": 12,
   "id": "f0be9903",
   "metadata": {},
   "outputs": [
    {
     "data": {
      "text/plain": [
       "count    578660.000000\n",
       "mean        496.705504\n",
       "std          70.810765\n",
       "min         360.600000\n",
       "25%         442.200000\n",
       "50%         487.100000\n",
       "75%         543.200000\n",
       "max         859.200000\n",
       "Name: NU_NOTA_CN, dtype: float64"
      ]
     },
     "execution_count": 12,
     "metadata": {},
     "output_type": "execute_result"
    }
   ],
   "source": [
    "# Como a análise do motivo da existência de registros com nota igual a 0 foge ao espcopo do presente estudo, os registros\n",
    "# foram eliminados.\n",
    "prova_cn_aplicacao_regular = prova_cn_aplicacao_regular[prova_cn_aplicacao_regular['NU_NOTA_CN'] != 0]\n",
    "\n",
    "# Medidas estatísticas das notas após remoção dos registros com nota igual a 0\n",
    "prova_cn_aplicacao_regular['NU_NOTA_CN'].describe()"
   ]
  },
  {
   "cell_type": "markdown",
   "id": "3c3c9a00",
   "metadata": {},
   "source": [
    "**Reaplicação, prova código 1165**\n",
    "<br>\n",
    "Colunas: TP_PRESENCA_CN, CO_PROVA_CN, NU_NOTA_CN, TX_RESPOSTAS_CN, TX_GABARITO_CN"
   ]
  },
  {
   "cell_type": "code",
   "execution_count": 13,
   "id": "876b9647",
   "metadata": {},
   "outputs": [
    {
     "data": {
      "text/html": [
       "<div>\n",
       "<style scoped>\n",
       "    .dataframe tbody tr th:only-of-type {\n",
       "        vertical-align: middle;\n",
       "    }\n",
       "\n",
       "    .dataframe tbody tr th {\n",
       "        vertical-align: top;\n",
       "    }\n",
       "\n",
       "    .dataframe thead th {\n",
       "        text-align: right;\n",
       "    }\n",
       "</style>\n",
       "<table border=\"1\" class=\"dataframe\">\n",
       "  <thead>\n",
       "    <tr style=\"text-align: right;\">\n",
       "      <th></th>\n",
       "      <th>TP_PRESENCA_CN</th>\n",
       "      <th>CO_PROVA_CN</th>\n",
       "      <th>NU_NOTA_CN</th>\n",
       "      <th>TX_RESPOSTAS_CN</th>\n",
       "      <th>TX_GABARITO_CN</th>\n",
       "    </tr>\n",
       "  </thead>\n",
       "  <tbody>\n",
       "    <tr>\n",
       "      <th>13135</th>\n",
       "      <td>1</td>\n",
       "      <td>1165.0</td>\n",
       "      <td>403.2</td>\n",
       "      <td>EEBECCEDCEDAEDADAEBEDACDDBAEDDABACBBEDECDDDAA</td>\n",
       "      <td>BDBEDEACBAECDCABABDACEDDEAEBDCCCDBBBBCADCADAA</td>\n",
       "    </tr>\n",
       "    <tr>\n",
       "      <th>13146</th>\n",
       "      <td>1</td>\n",
       "      <td>1165.0</td>\n",
       "      <td>525.3</td>\n",
       "      <td>BDCEDEECDABBCACEBDBDECBCBDADDCCACCBDEBAACBEDE</td>\n",
       "      <td>BDBEDEACBAECDCABABDACEDDEAEBDCCCDBBBBCADCADAA</td>\n",
       "    </tr>\n",
       "    <tr>\n",
       "      <th>16205</th>\n",
       "      <td>1</td>\n",
       "      <td>1165.0</td>\n",
       "      <td>556.6</td>\n",
       "      <td>BECEAEEDBACDACAABBAEEEADDBEADBAABBBBCCADEBDAD</td>\n",
       "      <td>BDBEDEACBAECDCABABDACEDDEAEBDCCCDBBBBCADCADAA</td>\n",
       "    </tr>\n",
       "    <tr>\n",
       "      <th>22419</th>\n",
       "      <td>1</td>\n",
       "      <td>1165.0</td>\n",
       "      <td>526.7</td>\n",
       "      <td>BDDCDEDDCCCDECEDDDDBECDCBDBDCBBCBCBECCADCADDD</td>\n",
       "      <td>BDBEDEACBAECDCABABDACEDDEAEBDCCCDBBBBCADCADAA</td>\n",
       "    </tr>\n",
       "    <tr>\n",
       "      <th>24662</th>\n",
       "      <td>1</td>\n",
       "      <td>1165.0</td>\n",
       "      <td>396.7</td>\n",
       "      <td>DDBECBBBBEDAABEEABDBBBBAADACEDAABCBEBACCCBEAC</td>\n",
       "      <td>BDBEDEACBAECDCABABDACEDDEAEBDCCCDBBBBCADCADAA</td>\n",
       "    </tr>\n",
       "  </tbody>\n",
       "</table>\n",
       "</div>"
      ],
      "text/plain": [
       "       TP_PRESENCA_CN  CO_PROVA_CN  NU_NOTA_CN  \\\n",
       "13135               1       1165.0       403.2   \n",
       "13146               1       1165.0       525.3   \n",
       "16205               1       1165.0       556.6   \n",
       "22419               1       1165.0       526.7   \n",
       "24662               1       1165.0       396.7   \n",
       "\n",
       "                                     TX_RESPOSTAS_CN  \\\n",
       "13135  EEBECCEDCEDAEDADAEBEDACDDBAEDDABACBBEDECDDDAA   \n",
       "13146  BDCEDEECDABBCACEBDBDECBCBDADDCCACCBDEBAACBEDE   \n",
       "16205  BECEAEEDBACDACAABBAEEEADDBEADBAABBBBCCADEBDAD   \n",
       "22419  BDDCDEDDCCCDECEDDDDBECDCBDBDCBBCBCBECCADCADDD   \n",
       "24662  DDBECBBBBEDAABEEABDBBBBAADACEDAABCBEBACCCBEAC   \n",
       "\n",
       "                                      TX_GABARITO_CN  \n",
       "13135  BDBEDEACBAECDCABABDACEDDEAEBDCCCDBBBBCADCADAA  \n",
       "13146  BDBEDEACBAECDCABABDACEDDEAEBDCCCDBBBBCADCADAA  \n",
       "16205  BDBEDEACBAECDCABABDACEDDEAEBDCCCDBBBBCADCADAA  \n",
       "22419  BDBEDEACBAECDCABABDACEDDEAEBDCCCDBBBBCADCADAA  \n",
       "24662  BDBEDEACBAECDCABABDACEDDEAEBDCCCDBBBBCADCADAA  "
      ]
     },
     "metadata": {},
     "output_type": "display_data"
    },
    {
     "name": "stdout",
     "output_type": "stream",
     "text": [
      "Formato: (513, 5)\n"
     ]
    }
   ],
   "source": [
    "prova_cn_reaplicacao = df_prova_objetiva[df_prova_objetiva['CO_PROVA_CN'] == 1165]\n",
    "prova_cn_reaplicacao = prova_cn_reaplicacao[['TP_PRESENCA_CN', 'CO_PROVA_CN', 'NU_NOTA_CN', 'TX_RESPOSTAS_CN', 'TX_GABARITO_CN']]\n",
    "display(prova_cn_reaplicacao.head())\n",
    "print(f'Formato: {prova_cn_reaplicacao.shape}')"
   ]
  },
  {
   "cell_type": "code",
   "execution_count": 14,
   "id": "d437e8f7",
   "metadata": {},
   "outputs": [
    {
     "data": {
      "text/plain": [
       "count    513.000000\n",
       "mean     525.005848\n",
       "std       89.802120\n",
       "min      313.600000\n",
       "25%      462.200000\n",
       "50%      526.700000\n",
       "75%      587.600000\n",
       "max      801.400000\n",
       "Name: NU_NOTA_CN, dtype: float64"
      ]
     },
     "execution_count": 14,
     "metadata": {},
     "output_type": "execute_result"
    }
   ],
   "source": [
    "prova_cn_reaplicacao['NU_NOTA_CN'].describe()"
   ]
  },
  {
   "cell_type": "markdown",
   "id": "6f7b92cf",
   "metadata": {},
   "source": [
    "> - A **média das notas dos participantes** na aplicação regular da prova de Ciências da Natureza foi 496.70, com desvio padrão de 70.81. Já na reaplicação, a média foi 525.01, com desvio padrão de 89.80\n",
    "> - As **notas mínima e máxima** foram, respectivamente: 360.60 e 859.20 na aplicação regular; e 313.60 e 801.40 na reaplicação.\n",
    "> - Enquanto 578.660 participantes realizaram a prova na aplicação regular, apenas 513 realizaram a reaplicação."
   ]
  },
  {
   "cell_type": "markdown",
   "id": "99422d8b",
   "metadata": {},
   "source": [
    "### 3.2. Visualização dos dados das provas de Ciências da Natureza"
   ]
  },
  {
   "cell_type": "code",
   "execution_count": 15,
   "id": "c4f3e598",
   "metadata": {},
   "outputs": [],
   "source": [
    "notas_cn_aplicacao_regular = prova_cn_aplicacao_regular['NU_NOTA_CN']\n",
    "notas_cn_reaplicacao = prova_cn_reaplicacao['NU_NOTA_CN']"
   ]
  },
  {
   "cell_type": "code",
   "execution_count": 16,
   "id": "9d05a7b9",
   "metadata": {},
   "outputs": [
    {
     "data": {
      "image/png": "[encoded data removed]",
      "text/plain": [
       "<Figure size 700x500 with 1 Axes>"
      ]
     },
     "metadata": {},
     "output_type": "display_data"
    }
   ],
   "source": [
    "plt.figure(figsize=(7, 5))\n",
    "plt.hist(x = notas_cn_aplicacao_regular, bins=50, color='skyblue', alpha=0.6, rwidth=0.85)\n",
    "plt.suptitle('Distribuição das notas de Ciências da Natureza', fontsize=13)\n",
    "plt.title('Aplicação regular', fontsize=12)\n",
    "plt.ylabel('Frequência de notas', fontsize=11)\n",
    "plt.xlabel('Notas', fontsize=11)\n",
    "plt.box(False)\n",
    "plt.show()"
   ]
  },
  {
   "cell_type": "markdown",
   "id": "fcd34f57",
   "metadata": {},
   "source": [
    "Os valores se concentram na extremidade inferior da escala e se distribuem gradativamente em direção à extremidade superior, evidenciando a assimetria positiva da distribuição."
   ]
  },
  {
   "cell_type": "code",
   "execution_count": 17,
   "id": "2baef0f5",
   "metadata": {},
   "outputs": [
    {
     "name": "stdout",
     "output_type": "stream",
     "text": [
      "Medida da assimetria das notas na aplicação regular (skewness): 0.6242553762304169\n"
     ]
    }
   ],
   "source": [
    "# Cálculo da medida de assimetria (skewness)\n",
    "s_cn_aplicacao_regular = notas_cn_aplicacao_regular.skew()\n",
    "print(\"Medida da assimetria das notas na aplicação regular (skewness):\", s_cn_aplicacao_regular)"
   ]
  },
  {
   "cell_type": "code",
   "execution_count": 18,
   "id": "f10466be",
   "metadata": {},
   "outputs": [
    {
     "data": {
      "image/png": "[encoded data removed]",
      "text/plain": [
       "<Figure size 700x500 with 1 Axes>"
      ]
     },
     "metadata": {},
     "output_type": "display_data"
    }
   ],
   "source": [
    "plt.figure(figsize=(7, 5))\n",
    "plt.hist(x = notas_cn_reaplicacao, bins=50, color='skyblue', alpha=0.6, rwidth=0.85)\n",
    "plt.suptitle('Distribuição das notas de Ciências da Natureza', fontsize=13)\n",
    "plt.title('Reaplicação', fontsize=12)\n",
    "plt.ylabel('Frequência de notas', fontsize=11)\n",
    "plt.xlabel('Notas', fontsize=11)\n",
    "plt.box(False)\n",
    "plt.show()"
   ]
  },
  {
   "cell_type": "markdown",
   "id": "39dbab04",
   "metadata": {},
   "source": [
    "A distribuição das notas na reaplicação é aproximadamente simétrica, o que pode ser confirmado pelo valor da medida de assimetria, quase igual 0."
   ]
  },
  {
   "cell_type": "code",
   "execution_count": 19,
   "id": "bdcca532",
   "metadata": {},
   "outputs": [
    {
     "name": "stdout",
     "output_type": "stream",
     "text": [
      "Medida da assimetria das notas na reaplicação (skewness): -0.010089978923895099\n"
     ]
    }
   ],
   "source": [
    "# Cálculo da medida de assimetria (skewness)\n",
    "s_cn_reaplicacao = notas_cn_reaplicacao.skew()\n",
    "print(\"Medida da assimetria das notas na reaplicação (skewness):\", s_cn_reaplicacao)"
   ]
  },
  {
   "cell_type": "markdown",
   "id": "daa89e76",
   "metadata": {},
   "source": [
    "### 3.3. Teste de hipótese para as provas de Ciências da Natureza\n",
    "> **H0: média das notas da aplicação regular = média das notas da reaplicação**\n",
    "<br>\n",
    "**H1: média das notas da aplicação regular $\\neq$ média das notas da reaplicação**"
   ]
  },
  {
   "cell_type": "markdown",
   "id": "733d0b75",
   "metadata": {},
   "source": [
    "### 3.3.1. Verificação da normalidade das distribuições"
   ]
  },
  {
   "cell_type": "code",
   "execution_count": 20,
   "id": "b6de59a3",
   "metadata": {},
   "outputs": [],
   "source": [
    "# Definição de função para validação da normalidade\n",
    "def testa_normalidade(valores):\n",
    "    valores_teste = stats.normaltest(valores)\n",
    "    pvalue = valores_teste.pvalue\n",
    "    print('p-value:', pvalue)\n",
    "    if pvalue <= 0.05:\n",
    "        print('H0 rejeitada, a distribuição não é normal.')\n",
    "    else:\n",
    "        print('H0 aceita, a distribuição é normal.')\n",
    "    return"
   ]
  },
  {
   "cell_type": "code",
   "execution_count": 21,
   "id": "624f642f",
   "metadata": {},
   "outputs": [
    {
     "name": "stdout",
     "output_type": "stream",
     "text": [
      "\n",
      "Resultado do teste de normalidade da aplicação regular da prova de Ciências da Natureza:\n",
      "p-value: 0.0\n",
      "H0 rejeitada, a distribuição não é normal.\n",
      "\n",
      "Resultado do teste de normalidade da reaplicação da prova de Ciências da Natureza:\n",
      "p-value: 0.0054787402178187675\n",
      "H0 rejeitada, a distribuição não é normal.\n"
     ]
    }
   ],
   "source": [
    "# Verificação da normalidade\n",
    "\n",
    "# Aplicação regular\n",
    "print('\\nResultado do teste de normalidade da aplicação regular da prova de Ciências da Natureza:')\n",
    "testa_normalidade(notas_cn_aplicacao_regular)\n",
    "\n",
    "# Reaplicação\n",
    "print('\\nResultado do teste de normalidade da reaplicação da prova de Ciências da Natureza:')\n",
    "testa_normalidade(notas_cn_reaplicacao)"
   ]
  },
  {
   "cell_type": "markdown",
   "id": "9b130730",
   "metadata": {},
   "source": [
    "### 3.3.2. Aplicação do teste de hipótese"
   ]
  },
  {
   "cell_type": "code",
   "execution_count": 76,
   "id": "67299ef5",
   "metadata": {},
   "outputs": [
    {
     "name": "stdout",
     "output_type": "stream",
     "text": [
      "p-value: 3.468142351992598e-16\n",
      "H0 rejeitada: os valores de média são diferentes.\n"
     ]
    }
   ],
   "source": [
    "# Com as distribuições não são normais, realizaremos o teste de hipótese com o teste U (Mann_Whitney).\n",
    "\n",
    "# Comparação das notas na aplicação regular e na reaplicação da prova de Ciências da Natureza.\n",
    "result = stats.mannwhitneyu(notas_cn_aplicacao_regular, notas_cn_reaplicacao)\n",
    "pvalue = result.pvalue\n",
    "\n",
    "print('p-value:', pvalue)\n",
    "\n",
    "if pvalue <= 0.05:\n",
    "  print('H0 rejeitada: os valores de média são diferentes.')\n",
    "else:\n",
    "  print('H0 aceita: os valores de média são iguais.')"
   ]
  },
  {
   "cell_type": "markdown",
   "id": "1594ba34",
   "metadata": {},
   "source": [
    "---"
   ]
  },
  {
   "cell_type": "markdown",
   "id": "e1618cfe",
   "metadata": {},
   "source": [
    "### 4. Ciências Humanas"
   ]
  },
  {
   "cell_type": "markdown",
   "id": "929ad0ad",
   "metadata": {},
   "source": [
    "### 4.1. Descrição dos dados nas provas de Ciências Humanas"
   ]
  },
  {
   "cell_type": "markdown",
   "id": "a1a72c6a",
   "metadata": {},
   "source": [
    "**Aplicação regular (prova código 1055)**\n",
    "<br>\n",
    "Colunas: TP_PRESENCA_CH, CO_PROVA_CH, NU_NOTA_CH, TX_RESPOSTAS_CH, TX_GABARITO_CH"
   ]
  },
  {
   "cell_type": "code",
   "execution_count": 23,
   "id": "943f3037",
   "metadata": {
    "scrolled": true
   },
   "outputs": [
    {
     "data": {
      "text/html": [
       "<div>\n",
       "<style scoped>\n",
       "    .dataframe tbody tr th:only-of-type {\n",
       "        vertical-align: middle;\n",
       "    }\n",
       "\n",
       "    .dataframe tbody tr th {\n",
       "        vertical-align: top;\n",
       "    }\n",
       "\n",
       "    .dataframe thead th {\n",
       "        text-align: right;\n",
       "    }\n",
       "</style>\n",
       "<table border=\"1\" class=\"dataframe\">\n",
       "  <thead>\n",
       "    <tr style=\"text-align: right;\">\n",
       "      <th></th>\n",
       "      <th>TP_PRESENCA_CH</th>\n",
       "      <th>CO_PROVA_CH</th>\n",
       "      <th>NU_NOTA_CH</th>\n",
       "      <th>TX_RESPOSTAS_CH</th>\n",
       "      <th>TX_GABARITO_CH</th>\n",
       "    </tr>\n",
       "  </thead>\n",
       "  <tbody>\n",
       "    <tr>\n",
       "      <th>7</th>\n",
       "      <td>1</td>\n",
       "      <td>1055.0</td>\n",
       "      <td>427.3</td>\n",
       "      <td>BABACCABCBADEABDDBABDEBABDABABCEDCBBDADECACAC</td>\n",
       "      <td>DEABEEDAEBAAECBECBABCDDAAADBCEDAEACDBBCDCBECA</td>\n",
       "    </tr>\n",
       "    <tr>\n",
       "      <th>11</th>\n",
       "      <td>1</td>\n",
       "      <td>1055.0</td>\n",
       "      <td>539.8</td>\n",
       "      <td>AEAADEDEDDADDDDEDDDBDDDDADDBDDDDDDDDDEDDBBDDD</td>\n",
       "      <td>DEABEEDAEBAAECBECBABCDDAAADBCEDAEACDBBCDCBECA</td>\n",
       "    </tr>\n",
       "    <tr>\n",
       "      <th>17</th>\n",
       "      <td>1</td>\n",
       "      <td>1055.0</td>\n",
       "      <td>528.7</td>\n",
       "      <td>CEABADCEDEBAECBADABBCDBDAAEDCEDBABCACBEDAEDEA</td>\n",
       "      <td>DEABEEDAEBAAECBECBABCDDAAADBCEDAEACDBBCDCBECA</td>\n",
       "    </tr>\n",
       "    <tr>\n",
       "      <th>20</th>\n",
       "      <td>1</td>\n",
       "      <td>1055.0</td>\n",
       "      <td>476.2</td>\n",
       "      <td>BEADADABEEABDBBDBEABCDCBBEEECCABDBEACDDDAEDCE</td>\n",
       "      <td>DEABEEDAEBAAECBECBABCDDAAADBCEDAEACDBBCDCBECA</td>\n",
       "    </tr>\n",
       "    <tr>\n",
       "      <th>25</th>\n",
       "      <td>1</td>\n",
       "      <td>1055.0</td>\n",
       "      <td>458.5</td>\n",
       "      <td>CAEBEDDAEDADBCDBDAABDBEAEDACCBACBDCEBDEDCACDE</td>\n",
       "      <td>DEABEEDAEBAAECBECBABCDDAAADBCEDAEACDBBCDCBECA</td>\n",
       "    </tr>\n",
       "  </tbody>\n",
       "</table>\n",
       "</div>"
      ],
      "text/plain": [
       "    TP_PRESENCA_CH  CO_PROVA_CH  NU_NOTA_CH  \\\n",
       "7                1       1055.0       427.3   \n",
       "11               1       1055.0       539.8   \n",
       "17               1       1055.0       528.7   \n",
       "20               1       1055.0       476.2   \n",
       "25               1       1055.0       458.5   \n",
       "\n",
       "                                  TX_RESPOSTAS_CH  \\\n",
       "7   BABACCABCBADEABDDBABDEBABDABABCEDCBBDADECACAC   \n",
       "11  AEAADEDEDDADDDDEDDDBDDDDADDBDDDDDDDDDEDDBBDDD   \n",
       "17  CEABADCEDEBAECBADABBCDBDAAEDCEDBABCACBEDAEDEA   \n",
       "20  BEADADABEEABDBBDBEABCDCBBEEECCABDBEACDDDAEDCE   \n",
       "25  CAEBEDDAEDADBCDBDAABDBEAEDACCBACBDCEBDEDCACDE   \n",
       "\n",
       "                                   TX_GABARITO_CH  \n",
       "7   DEABEEDAEBAAECBECBABCDDAAADBCEDAEACDBBCDCBECA  \n",
       "11  DEABEEDAEBAAECBECBABCDDAAADBCEDAEACDBBCDCBECA  \n",
       "17  DEABEEDAEBAAECBECBABCDDAAADBCEDAEACDBBCDCBECA  \n",
       "20  DEABEEDAEBAAECBECBABCDDAAADBCEDAEACDBBCDCBECA  \n",
       "25  DEABEEDAEBAAECBECBABCDDAAADBCEDAEACDBBCDCBECA  "
      ]
     },
     "metadata": {},
     "output_type": "display_data"
    },
    {
     "name": "stdout",
     "output_type": "stream",
     "text": [
      "Formato: (613221, 5)\n"
     ]
    }
   ],
   "source": [
    "prova_ch_aplicacao_regular = df_prova_objetiva[df_prova_objetiva['CO_PROVA_CH'] == 1055]\n",
    "prova_ch_aplicacao_regular = prova_ch_aplicacao_regular[['TP_PRESENCA_CH', 'CO_PROVA_CH', 'NU_NOTA_CH', 'TX_RESPOSTAS_CH', 'TX_GABARITO_CH']]\n",
    "display(prova_ch_aplicacao_regular.head())\n",
    "print(f'Formato: {prova_ch_aplicacao_regular.shape}')"
   ]
  },
  {
   "cell_type": "code",
   "execution_count": 24,
   "id": "aa4d7147",
   "metadata": {},
   "outputs": [
    {
     "data": {
      "text/plain": [
       "TP_PRESENCA_CH\n",
       "1    613221\n",
       "Name: count, dtype: int64"
      ]
     },
     "execution_count": 24,
     "metadata": {},
     "output_type": "execute_result"
    }
   ],
   "source": [
    "# Não há registros de participantes faltantes ou eliminados\n",
    "prova_ch_aplicacao_regular['TP_PRESENCA_CH'].value_counts()"
   ]
  },
  {
   "cell_type": "code",
   "execution_count": 25,
   "id": "44881aa9",
   "metadata": {},
   "outputs": [
    {
     "data": {
      "text/plain": [
       "count    613221.000000\n",
       "mean        528.430454\n",
       "std          80.211328\n",
       "min           0.000000\n",
       "25%         479.500000\n",
       "50%         530.600000\n",
       "75%         582.300000\n",
       "max         839.200000\n",
       "Name: NU_NOTA_CH, dtype: float64"
      ]
     },
     "execution_count": 25,
     "metadata": {},
     "output_type": "execute_result"
    }
   ],
   "source": [
    "# Medidas estatísticas das notas\n",
    "prova_ch_aplicacao_regular['NU_NOTA_CH'].describe()"
   ]
  },
  {
   "cell_type": "markdown",
   "id": "68500101",
   "metadata": {},
   "source": [
    "Tratamento das notas iguais a 0 (zero)."
   ]
  },
  {
   "cell_type": "code",
   "execution_count": 26,
   "id": "223f589e",
   "metadata": {},
   "outputs": [
    {
     "data": {
      "text/html": [
       "<div>\n",
       "<style scoped>\n",
       "    .dataframe tbody tr th:only-of-type {\n",
       "        vertical-align: middle;\n",
       "    }\n",
       "\n",
       "    .dataframe tbody tr th {\n",
       "        vertical-align: top;\n",
       "    }\n",
       "\n",
       "    .dataframe thead th {\n",
       "        text-align: right;\n",
       "    }\n",
       "</style>\n",
       "<table border=\"1\" class=\"dataframe\">\n",
       "  <thead>\n",
       "    <tr style=\"text-align: right;\">\n",
       "      <th></th>\n",
       "      <th>TP_PRESENCA_CH</th>\n",
       "      <th>CO_PROVA_CH</th>\n",
       "      <th>NU_NOTA_CH</th>\n",
       "      <th>TX_RESPOSTAS_CH</th>\n",
       "      <th>TX_GABARITO_CH</th>\n",
       "    </tr>\n",
       "  </thead>\n",
       "  <tbody>\n",
       "    <tr>\n",
       "      <th>1394</th>\n",
       "      <td>1</td>\n",
       "      <td>1055.0</td>\n",
       "      <td>0.0</td>\n",
       "      <td>.............................................</td>\n",
       "      <td>DEABEEDAEBAAECBECBABCDDAAADBCEDAEACDBBCDCBECA</td>\n",
       "    </tr>\n",
       "    <tr>\n",
       "      <th>9017</th>\n",
       "      <td>1</td>\n",
       "      <td>1055.0</td>\n",
       "      <td>0.0</td>\n",
       "      <td>.............................................</td>\n",
       "      <td>DEABEEDAEBAAECBECBABCDDAAADBCEDAEACDBBCDCBECA</td>\n",
       "    </tr>\n",
       "    <tr>\n",
       "      <th>12479</th>\n",
       "      <td>1</td>\n",
       "      <td>1055.0</td>\n",
       "      <td>0.0</td>\n",
       "      <td>.............................................</td>\n",
       "      <td>DEABEEDAEBAAECBECBABCDDAAADBCEDAEACDBBCDCBECA</td>\n",
       "    </tr>\n",
       "    <tr>\n",
       "      <th>13262</th>\n",
       "      <td>1</td>\n",
       "      <td>1055.0</td>\n",
       "      <td>0.0</td>\n",
       "      <td>.............................................</td>\n",
       "      <td>DEABEEDAEBAAECBECBABCDDAAADBCEDAEACDBBCDCBECA</td>\n",
       "    </tr>\n",
       "    <tr>\n",
       "      <th>17977</th>\n",
       "      <td>1</td>\n",
       "      <td>1055.0</td>\n",
       "      <td>0.0</td>\n",
       "      <td>.............................................</td>\n",
       "      <td>DEABEEDAEBAAECBECBABCDDAAADBCEDAEACDBBCDCBECA</td>\n",
       "    </tr>\n",
       "  </tbody>\n",
       "</table>\n",
       "</div>"
      ],
      "text/plain": [
       "       TP_PRESENCA_CH  CO_PROVA_CH  NU_NOTA_CH  \\\n",
       "1394                1       1055.0         0.0   \n",
       "9017                1       1055.0         0.0   \n",
       "12479               1       1055.0         0.0   \n",
       "13262               1       1055.0         0.0   \n",
       "17977               1       1055.0         0.0   \n",
       "\n",
       "                                     TX_RESPOSTAS_CH  \\\n",
       "1394   .............................................   \n",
       "9017   .............................................   \n",
       "12479  .............................................   \n",
       "13262  .............................................   \n",
       "17977  .............................................   \n",
       "\n",
       "                                      TX_GABARITO_CH  \n",
       "1394   DEABEEDAEBAAECBECBABCDDAAADBCEDAEACDBBCDCBECA  \n",
       "9017   DEABEEDAEBAAECBECBABCDDAAADBCEDAEACDBBCDCBECA  \n",
       "12479  DEABEEDAEBAAECBECBABCDDAAADBCEDAEACDBBCDCBECA  \n",
       "13262  DEABEEDAEBAAECBECBABCDDAAADBCEDAEACDBBCDCBECA  \n",
       "17977  DEABEEDAEBAAECBECBABCDDAAADBCEDAEACDBBCDCBECA  "
      ]
     },
     "metadata": {},
     "output_type": "display_data"
    },
    {
     "name": "stdout",
     "output_type": "stream",
     "text": [
      "Formato: (1097, 5)\n"
     ]
    }
   ],
   "source": [
    "display(prova_ch_aplicacao_regular[prova_ch_aplicacao_regular['NU_NOTA_CH'] == 0].head())\n",
    "print(f'Formato:', prova_ch_aplicacao_regular[prova_ch_aplicacao_regular['NU_NOTA_CH'] == 0].shape)"
   ]
  },
  {
   "cell_type": "code",
   "execution_count": 27,
   "id": "e751812b",
   "metadata": {},
   "outputs": [
    {
     "data": {
      "text/plain": [
       "TX_RESPOSTAS_CH\n",
       ".............................................    1097\n",
       "Name: count, dtype: int64"
      ]
     },
     "execution_count": 27,
     "metadata": {},
     "output_type": "execute_result"
    }
   ],
   "source": [
    "# Todas os registros com nota igual a 0 tem o campo TX_RESPOSTAS_CH preenchido somente com ponto (.).\n",
    "prova_ch_aplicacao_regular[prova_ch_aplicacao_regular['NU_NOTA_CH'] == 0]['TX_RESPOSTAS_CH'] .value_counts()"
   ]
  },
  {
   "cell_type": "code",
   "execution_count": 28,
   "id": "2160010d",
   "metadata": {},
   "outputs": [
    {
     "data": {
      "text/plain": [
       "count    612124.000000\n",
       "mean        529.377465\n",
       "std          77.097732\n",
       "min         305.100000\n",
       "25%         479.800000\n",
       "50%         530.750000\n",
       "75%         582.400000\n",
       "max         839.200000\n",
       "Name: NU_NOTA_CH, dtype: float64"
      ]
     },
     "execution_count": 28,
     "metadata": {},
     "output_type": "execute_result"
    }
   ],
   "source": [
    "# Como a análise do motivo da existência de registros com nota igual a 0 foge ao espcopo do presente estudo, os registros\n",
    "# foram eliminados.\n",
    "prova_ch_aplicacao_regular = prova_ch_aplicacao_regular[prova_ch_aplicacao_regular['NU_NOTA_CH'] != 0]\n",
    "\n",
    "# Medidas estatísticas das notas após remoção dos registros com nota igual a 0\n",
    "prova_ch_aplicacao_regular['NU_NOTA_CH'].describe()"
   ]
  },
  {
   "cell_type": "markdown",
   "id": "f7feaa0f",
   "metadata": {},
   "source": [
    "**Reaplicação, prova código 1135**\n",
    "<br>\n",
    "Colunas: TP_PRESENCA_CH, CO_PROVA_CH, NU_NOTA_CH, TX_RESPOSTAS_CH, TX_GABARITO_CH"
   ]
  },
  {
   "cell_type": "code",
   "execution_count": 29,
   "id": "e07c60a0",
   "metadata": {},
   "outputs": [
    {
     "data": {
      "text/html": [
       "<div>\n",
       "<style scoped>\n",
       "    .dataframe tbody tr th:only-of-type {\n",
       "        vertical-align: middle;\n",
       "    }\n",
       "\n",
       "    .dataframe tbody tr th {\n",
       "        vertical-align: top;\n",
       "    }\n",
       "\n",
       "    .dataframe thead th {\n",
       "        text-align: right;\n",
       "    }\n",
       "</style>\n",
       "<table border=\"1\" class=\"dataframe\">\n",
       "  <thead>\n",
       "    <tr style=\"text-align: right;\">\n",
       "      <th></th>\n",
       "      <th>TP_PRESENCA_CH</th>\n",
       "      <th>CO_PROVA_CH</th>\n",
       "      <th>NU_NOTA_CH</th>\n",
       "      <th>TX_RESPOSTAS_CH</th>\n",
       "      <th>TX_GABARITO_CH</th>\n",
       "    </tr>\n",
       "  </thead>\n",
       "  <tbody>\n",
       "    <tr>\n",
       "      <th>2560</th>\n",
       "      <td>1</td>\n",
       "      <td>1135.0</td>\n",
       "      <td>457.4</td>\n",
       "      <td>BCAAACDBDAACBACABAABDEBDCBAADEDBAAAAADBEBACAB</td>\n",
       "      <td>ADBABEDBEACBBCBDAADBDCCCABBABBDEDABCECACCCCEA</td>\n",
       "    </tr>\n",
       "    <tr>\n",
       "      <th>38525</th>\n",
       "      <td>1</td>\n",
       "      <td>1135.0</td>\n",
       "      <td>494.8</td>\n",
       "      <td>BDEAABDAACABAADBAAABDBCDBBBCAAADCABCBBADEACBA</td>\n",
       "      <td>ADBABEDBEACBBCBDAADBDCCCABBABBDEDABCECACCCCEA</td>\n",
       "    </tr>\n",
       "    <tr>\n",
       "      <th>56997</th>\n",
       "      <td>1</td>\n",
       "      <td>1135.0</td>\n",
       "      <td>492.5</td>\n",
       "      <td>ACECDADAEEBDACBCEDCDDCECADBBAEEEACDBDCAACDDEA</td>\n",
       "      <td>ADBABEDBEACBBCBDAADBDCCCABBABBDEDABCECACCCCEA</td>\n",
       "    </tr>\n",
       "    <tr>\n",
       "      <th>63080</th>\n",
       "      <td>1</td>\n",
       "      <td>1135.0</td>\n",
       "      <td>660.3</td>\n",
       "      <td>ADBADEDBEACDBCBDAADBDCCCBBBABEAECCCCECAACCDEA</td>\n",
       "      <td>ADBABEDBEACBBCBDAADBDCCCABBABBDEDABCECACCCCEA</td>\n",
       "    </tr>\n",
       "    <tr>\n",
       "      <th>112129</th>\n",
       "      <td>1</td>\n",
       "      <td>1135.0</td>\n",
       "      <td>515.2</td>\n",
       "      <td>DDBAAEDBDACDCEBADCDBDDCADAAACEAECBCAEBEACCBCA</td>\n",
       "      <td>ADBABEDBEACBBCBDAADBDCCCABBABBDEDABCECACCCCEA</td>\n",
       "    </tr>\n",
       "  </tbody>\n",
       "</table>\n",
       "</div>"
      ],
      "text/plain": [
       "        TP_PRESENCA_CH  CO_PROVA_CH  NU_NOTA_CH  \\\n",
       "2560                 1       1135.0       457.4   \n",
       "38525                1       1135.0       494.8   \n",
       "56997                1       1135.0       492.5   \n",
       "63080                1       1135.0       660.3   \n",
       "112129               1       1135.0       515.2   \n",
       "\n",
       "                                      TX_RESPOSTAS_CH  \\\n",
       "2560    BCAAACDBDAACBACABAABDEBDCBAADEDBAAAAADBEBACAB   \n",
       "38525   BDEAABDAACABAADBAAABDBCDBBBCAAADCABCBBADEACBA   \n",
       "56997   ACECDADAEEBDACBCEDCDDCECADBBAEEEACDBDCAACDDEA   \n",
       "63080   ADBADEDBEACDBCBDAADBDCCCBBBABEAECCCCECAACCDEA   \n",
       "112129  DDBAAEDBDACDCEBADCDBDDCADAAACEAECBCAEBEACCBCA   \n",
       "\n",
       "                                       TX_GABARITO_CH  \n",
       "2560    ADBABEDBEACBBCBDAADBDCCCABBABBDEDABCECACCCCEA  \n",
       "38525   ADBABEDBEACBBCBDAADBDCCCABBABBDEDABCECACCCCEA  \n",
       "56997   ADBABEDBEACBBCBDAADBDCCCABBABBDEDABCECACCCCEA  \n",
       "63080   ADBABEDBEACBBCBDAADBDCCCABBABBDEDABCECACCCCEA  \n",
       "112129  ADBABEDBEACBBCBDAADBDCCCABBABBDEDABCECACCCCEA  "
      ]
     },
     "metadata": {},
     "output_type": "display_data"
    },
    {
     "name": "stdout",
     "output_type": "stream",
     "text": [
      "Formato: (243, 5)\n"
     ]
    }
   ],
   "source": [
    "prova_ch_reaplicacao = df_prova_objetiva[df_prova_objetiva['CO_PROVA_CH'] == 1135]\n",
    "prova_ch_reaplicacao = prova_ch_reaplicacao[['TP_PRESENCA_CH', 'CO_PROVA_CH', 'NU_NOTA_CH', 'TX_RESPOSTAS_CH', 'TX_GABARITO_CH']]\n",
    "display(prova_ch_reaplicacao.head())\n",
    "print(f'Formato: {prova_ch_reaplicacao.shape}')"
   ]
  },
  {
   "cell_type": "code",
   "execution_count": 30,
   "id": "890dedc0",
   "metadata": {},
   "outputs": [
    {
     "data": {
      "text/plain": [
       "count    243.000000\n",
       "mean     569.134979\n",
       "std       85.035118\n",
       "min      312.100000\n",
       "25%      515.400000\n",
       "50%      576.500000\n",
       "75%      630.750000\n",
       "max      758.100000\n",
       "Name: NU_NOTA_CH, dtype: float64"
      ]
     },
     "execution_count": 30,
     "metadata": {},
     "output_type": "execute_result"
    }
   ],
   "source": [
    "prova_ch_reaplicacao['NU_NOTA_CH'].describe()"
   ]
  },
  {
   "cell_type": "markdown",
   "id": "909863e9",
   "metadata": {},
   "source": [
    "> - A **média das notas dos participantes** na aplicação regular da prova de Ciências Humanas foi 529.38, com desvio padrão de 77.10. Já na reaplicação, a média foi 569.13, com desvio padrão de 85.03\n",
    "> - As **notas mínima e máxima** foram, respectivamente: 305.10 e 839.20 na aplicação regular; e 312.10 e 758.10 na reaplicação.\n",
    "> - Enquanto 612.124 participantes realizaram a prova na aplicação regular, apenas 243 realizaram a reaplicação."
   ]
  },
  {
   "cell_type": "markdown",
   "id": "1e83a45a",
   "metadata": {},
   "source": [
    "### 4.2. Visualização dos dados das provas de Ciências Humanas"
   ]
  },
  {
   "cell_type": "code",
   "execution_count": 31,
   "id": "6f6f355b",
   "metadata": {},
   "outputs": [],
   "source": [
    "notas_ch_aplicacao_regular = prova_ch_aplicacao_regular['NU_NOTA_CH']\n",
    "notas_ch_reaplicacao = prova_ch_reaplicacao['NU_NOTA_CH']"
   ]
  },
  {
   "cell_type": "code",
   "execution_count": 32,
   "id": "2138b1bd",
   "metadata": {},
   "outputs": [
    {
     "data": {
      "image/png": "[encoded data removed]",
      "text/plain": [
       "<Figure size 700x500 with 1 Axes>"
      ]
     },
     "metadata": {},
     "output_type": "display_data"
    }
   ],
   "source": [
    "plt.figure(figsize=(7, 5))\n",
    "plt.hist(x = notas_ch_aplicacao_regular, bins=50, color='lightgreen', alpha=0.5, rwidth=0.85)\n",
    "plt.suptitle('Distribuição das notas de Ciências Humanas', fontsize=13)\n",
    "plt.title('Aplicação regular', fontsize=12)\n",
    "plt.ylabel('Frequência de notas', fontsize=11)\n",
    "plt.xlabel('Notas', fontsize=11)\n",
    "plt.box(False)\n",
    "plt.show()"
   ]
  },
  {
   "cell_type": "markdown",
   "id": "11763d4a",
   "metadata": {},
   "source": [
    "A distribuição das notas na reaplicação é aproximadamente simétrica, mas com pequena assimetria negativa, o que pode ser confirmado pelo valor da medida de assimetria, negativa próxima de 0."
   ]
  },
  {
   "cell_type": "code",
   "execution_count": 33,
   "id": "7a37293f",
   "metadata": {},
   "outputs": [
    {
     "name": "stdout",
     "output_type": "stream",
     "text": [
      "Medida da assimetria das notas na aplicação regular (skewness): -0.135199188493483\n"
     ]
    }
   ],
   "source": [
    "# Cálculo da medida de assimetria (skewness)\n",
    "s_ch_aplicacao_regular = notas_ch_aplicacao_regular.skew()\n",
    "print(\"Medida da assimetria das notas na aplicação regular (skewness):\", s_ch_aplicacao_regular)"
   ]
  },
  {
   "cell_type": "code",
   "execution_count": 34,
   "id": "e56428e8",
   "metadata": {},
   "outputs": [
    {
     "data": {
      "image/png": "[encoded data removed]",
      "text/plain": [
       "<Figure size 700x500 with 1 Axes>"
      ]
     },
     "metadata": {},
     "output_type": "display_data"
    }
   ],
   "source": [
    "plt.figure(figsize=(7, 5))\n",
    "plt.hist(x = notas_ch_reaplicacao, bins=50, color='lightgreen', alpha=0.5, rwidth=0.85)\n",
    "plt.suptitle('Distribuição das notas de Ciências Humanas', fontsize=13)\n",
    "plt.title('Reaplicação', fontsize=12)\n",
    "plt.ylabel('Frequência de notas', fontsize=11)\n",
    "plt.xlabel('Notas', fontsize=11)\n",
    "plt.box(False)\n",
    "plt.show()"
   ]
  },
  {
   "cell_type": "markdown",
   "id": "b6d32a31",
   "metadata": {},
   "source": [
    "A distribuição das notas na reaplicação é assimétrica negativa, com concentração na extremidade superior e alongamento da cauda inferior. O valor da medida de assimetria é negativo."
   ]
  },
  {
   "cell_type": "code",
   "execution_count": 35,
   "id": "7b9ef77f",
   "metadata": {},
   "outputs": [
    {
     "name": "stdout",
     "output_type": "stream",
     "text": [
      "Medida da assimetria das notas na reaplicação (skewness): -0.45332770094171937\n"
     ]
    }
   ],
   "source": [
    "# Cálculo da medida de assimetria (skewness)\n",
    "s_ch_reaplicacao = notas_ch_reaplicacao.skew()\n",
    "print(\"Medida da assimetria das notas na reaplicação (skewness):\", s_ch_reaplicacao)"
   ]
  },
  {
   "cell_type": "markdown",
   "id": "785a090c",
   "metadata": {},
   "source": [
    "### 4.3. Teste de hipótese para as provas de Ciências Humanas\n",
    "> **H0: média das notas da aplicação regular = média das notas da reaplicação**\n",
    "<br>\n",
    "**H1: média das notas da aplicação regular $\\neq$ média das notas da reaplicação**"
   ]
  },
  {
   "cell_type": "markdown",
   "id": "29a500f3",
   "metadata": {},
   "source": [
    "### 4.3.1. Verificação da normalidade das distribuições"
   ]
  },
  {
   "cell_type": "code",
   "execution_count": 36,
   "id": "aa3d29a6",
   "metadata": {},
   "outputs": [
    {
     "name": "stdout",
     "output_type": "stream",
     "text": [
      "\n",
      "Resultado do teste de normalidade da aplicação regular da prova de Ciências Humanas:\n",
      "p-value: 0.0\n",
      "H0 rejeitada, a distribuição não é normal.\n",
      "\n",
      "Resultado do teste de normalidade da reaplicação da prova de Ciências Humanas:\n",
      "p-value: 0.017720823337004185\n",
      "H0 rejeitada, a distribuição não é normal.\n"
     ]
    }
   ],
   "source": [
    "# Verificação da normalidade\n",
    "\n",
    "# Aplicação regular\n",
    "print('\\nResultado do teste de normalidade da aplicação regular da prova de Ciências Humanas:')\n",
    "testa_normalidade(notas_ch_aplicacao_regular)\n",
    "\n",
    "# Reaplicação\n",
    "print('\\nResultado do teste de normalidade da reaplicação da prova de Ciências Humanas:')\n",
    "testa_normalidade(notas_ch_reaplicacao)"
   ]
  },
  {
   "cell_type": "markdown",
   "id": "eae5efa1",
   "metadata": {},
   "source": [
    "### 4.3.2. Aplicação do teste de hipótese"
   ]
  },
  {
   "cell_type": "code",
   "execution_count": 74,
   "id": "b03bc5be",
   "metadata": {},
   "outputs": [
    {
     "name": "stdout",
     "output_type": "stream",
     "text": [
      "p-value: 6.4857664969180225e-15\n",
      "H0 rejeitada: os valores de média são diferentes.\n"
     ]
    }
   ],
   "source": [
    "# Com as distribuições não são normais, realizaremos o teste de hipótese com o teste U (Mann_Whitney).\n",
    "\n",
    "# Comparação das notas na aplicação regular e na reaplicação da prova de Ciências Humanas.\n",
    "result = stats.mannwhitneyu(notas_ch_aplicacao_regular, notas_ch_reaplicacao)\n",
    "pvalue = result.pvalue\n",
    "\n",
    "print('p-value:', pvalue)\n",
    "\n",
    "if pvalue <= 0.05:\n",
    "  print('H0 rejeitada: os valores de média são diferentes.')\n",
    "else:\n",
    "  print('H0 aceita: os valores de média são iguais.')"
   ]
  },
  {
   "cell_type": "markdown",
   "id": "f1d3e9e2",
   "metadata": {},
   "source": [
    "---"
   ]
  },
  {
   "cell_type": "markdown",
   "id": "f3bab307",
   "metadata": {},
   "source": [
    "### 5. Linguagens e Códigos"
   ]
  },
  {
   "cell_type": "markdown",
   "id": "04a8e24e",
   "metadata": {},
   "source": [
    "### 5.1. Descrição dos dados nas provas de Linguagens e Códigos"
   ]
  },
  {
   "cell_type": "markdown",
   "id": "90295dce",
   "metadata": {},
   "source": [
    "**Aplicação regular (prova código 1065)**\n",
    "<br>\n",
    "Colunas: TP_PRESENCA_LC, CO_PROVA_LC, NU_NOTA_LC, TX_RESPOSTAS_LC, TX_GABARITO_LC, TP_LINGUA"
   ]
  },
  {
   "cell_type": "code",
   "execution_count": 38,
   "id": "1c37479f",
   "metadata": {
    "scrolled": true
   },
   "outputs": [
    {
     "data": {
      "text/html": [
       "<div>\n",
       "<style scoped>\n",
       "    .dataframe tbody tr th:only-of-type {\n",
       "        vertical-align: middle;\n",
       "    }\n",
       "\n",
       "    .dataframe tbody tr th {\n",
       "        vertical-align: top;\n",
       "    }\n",
       "\n",
       "    .dataframe thead th {\n",
       "        text-align: right;\n",
       "    }\n",
       "</style>\n",
       "<table border=\"1\" class=\"dataframe\">\n",
       "  <thead>\n",
       "    <tr style=\"text-align: right;\">\n",
       "      <th></th>\n",
       "      <th>TP_PRESENCA_LC</th>\n",
       "      <th>CO_PROVA_LC</th>\n",
       "      <th>NU_NOTA_LC</th>\n",
       "      <th>TX_RESPOSTAS_LC</th>\n",
       "      <th>TX_GABARITO_LC</th>\n",
       "      <th>TP_LINGUA</th>\n",
       "    </tr>\n",
       "  </thead>\n",
       "  <tbody>\n",
       "    <tr>\n",
       "      <th>7</th>\n",
       "      <td>1</td>\n",
       "      <td>1065.0</td>\n",
       "      <td>400.2</td>\n",
       "      <td>DACECBAEAABBEAACDCCBAEBEBABCCDCBEEDAABDCADBEB</td>\n",
       "      <td>DCBDEEDCAAEAAACABBDBEBACCBEEECCBBDCAAADCCABEDB...</td>\n",
       "      <td>1</td>\n",
       "    </tr>\n",
       "    <tr>\n",
       "      <th>11</th>\n",
       "      <td>1</td>\n",
       "      <td>1065.0</td>\n",
       "      <td>488.2</td>\n",
       "      <td>EABAAEAAAAAAAAEAAACAAAABCABAAAAAADDDDCADAAAAA</td>\n",
       "      <td>DCBDEEDCAAEAAACABBDBEBACCBEEECCBBDCAAADCCABEDB...</td>\n",
       "      <td>1</td>\n",
       "    </tr>\n",
       "    <tr>\n",
       "      <th>17</th>\n",
       "      <td>1</td>\n",
       "      <td>1065.0</td>\n",
       "      <td>551.4</td>\n",
       "      <td>CCBDBECEAECBDDECACCDBACECCBADBCAADACCCDDBCEDE</td>\n",
       "      <td>DCBDEEDCAAEAAACABBDBEBACCBEEECCBBDCAAADCCABEDB...</td>\n",
       "      <td>0</td>\n",
       "    </tr>\n",
       "    <tr>\n",
       "      <th>20</th>\n",
       "      <td>1</td>\n",
       "      <td>1065.0</td>\n",
       "      <td>488.3</td>\n",
       "      <td>CCDDBEEDAEDBCDEBECCDDAEDBCEDCAABEDDCECADBACAE</td>\n",
       "      <td>DCBDEEDCAAEAAACABBDBEBACCBEEECCBBDCAAADCCABEDB...</td>\n",
       "      <td>0</td>\n",
       "    </tr>\n",
       "    <tr>\n",
       "      <th>25</th>\n",
       "      <td>1</td>\n",
       "      <td>1065.0</td>\n",
       "      <td>479.7</td>\n",
       "      <td>BCEBEBDEBAACDBEDEACDEAEEBECBDEBEADACACBCBDECD</td>\n",
       "      <td>DCBDEEDCAAEAAACABBDBEBACCBEEECCBBDCAAADCCABEDB...</td>\n",
       "      <td>0</td>\n",
       "    </tr>\n",
       "  </tbody>\n",
       "</table>\n",
       "</div>"
      ],
      "text/plain": [
       "    TP_PRESENCA_LC  CO_PROVA_LC  NU_NOTA_LC  \\\n",
       "7                1       1065.0       400.2   \n",
       "11               1       1065.0       488.2   \n",
       "17               1       1065.0       551.4   \n",
       "20               1       1065.0       488.3   \n",
       "25               1       1065.0       479.7   \n",
       "\n",
       "                                  TX_RESPOSTAS_LC  \\\n",
       "7   DACECBAEAABBEAACDCCBAEBEBABCCDCBEEDAABDCADBEB   \n",
       "11  EABAAEAAAAAAAAEAAACAAAABCABAAAAAADDDDCADAAAAA   \n",
       "17  CCBDBECEAECBDDECACCDBACECCBADBCAADACCCDDBCEDE   \n",
       "20  CCDDBEEDAEDBCDEBECCDDAEDBCEDCAABEDDCECADBACAE   \n",
       "25  BCEBEBDEBAACDBEDEACDEAEEBECBDEBEADACACBCBDECD   \n",
       "\n",
       "                                       TX_GABARITO_LC  TP_LINGUA  \n",
       "7   DCBDEEDCAAEAAACABBDBEBACCBEEECCBBDCAAADCCABEDB...          1  \n",
       "11  DCBDEEDCAAEAAACABBDBEBACCBEEECCBBDCAAADCCABEDB...          1  \n",
       "17  DCBDEEDCAAEAAACABBDBEBACCBEEECCBBDCAAADCCABEDB...          0  \n",
       "20  DCBDEEDCAAEAAACABBDBEBACCBEEECCBBDCAAADCCABEDB...          0  \n",
       "25  DCBDEEDCAAEAAACABBDBEBACCBEEECCBBDCAAADCCABEDB...          0  "
      ]
     },
     "metadata": {},
     "output_type": "display_data"
    },
    {
     "name": "stdout",
     "output_type": "stream",
     "text": [
      "Formato: (613221, 6)\n"
     ]
    }
   ],
   "source": [
    "prova_lc_aplicacao_regular = df_prova_objetiva[df_prova_objetiva['CO_PROVA_LC'] == 1065]\n",
    "prova_lc_aplicacao_regular = prova_lc_aplicacao_regular[['TP_PRESENCA_LC', 'CO_PROVA_LC', 'NU_NOTA_LC', 'TX_RESPOSTAS_LC', 'TX_GABARITO_LC', 'TP_LINGUA']]\n",
    "display(prova_lc_aplicacao_regular.head())\n",
    "print(f'Formato: {prova_lc_aplicacao_regular.shape}')"
   ]
  },
  {
   "cell_type": "code",
   "execution_count": 39,
   "id": "2755d9ee",
   "metadata": {},
   "outputs": [
    {
     "data": {
      "text/plain": [
       "TP_PRESENCA_LC\n",
       "1    613221\n",
       "Name: count, dtype: int64"
      ]
     },
     "execution_count": 39,
     "metadata": {},
     "output_type": "execute_result"
    }
   ],
   "source": [
    "# Não há registros de participantes faltantes ou eliminados\n",
    "prova_lc_aplicacao_regular['TP_PRESENCA_LC'].value_counts()"
   ]
  },
  {
   "cell_type": "code",
   "execution_count": 40,
   "id": "26954443",
   "metadata": {},
   "outputs": [
    {
     "data": {
      "text/plain": [
       "count    613221.000000\n",
       "mean        516.931958\n",
       "std          78.123313\n",
       "min           0.000000\n",
       "25%         466.600000\n",
       "50%         525.500000\n",
       "75%         573.500000\n",
       "max         801.000000\n",
       "Name: NU_NOTA_LC, dtype: float64"
      ]
     },
     "execution_count": 40,
     "metadata": {},
     "output_type": "execute_result"
    }
   ],
   "source": [
    "# Medidas estatísticas das notas\n",
    "prova_lc_aplicacao_regular['NU_NOTA_LC'].describe()"
   ]
  },
  {
   "cell_type": "markdown",
   "id": "399e14e0",
   "metadata": {},
   "source": [
    "Tratamento das notas iguais a 0 (zero)."
   ]
  },
  {
   "cell_type": "code",
   "execution_count": 41,
   "id": "e8e2ba32",
   "metadata": {},
   "outputs": [
    {
     "data": {
      "text/html": [
       "<div>\n",
       "<style scoped>\n",
       "    .dataframe tbody tr th:only-of-type {\n",
       "        vertical-align: middle;\n",
       "    }\n",
       "\n",
       "    .dataframe tbody tr th {\n",
       "        vertical-align: top;\n",
       "    }\n",
       "\n",
       "    .dataframe thead th {\n",
       "        text-align: right;\n",
       "    }\n",
       "</style>\n",
       "<table border=\"1\" class=\"dataframe\">\n",
       "  <thead>\n",
       "    <tr style=\"text-align: right;\">\n",
       "      <th></th>\n",
       "      <th>TP_PRESENCA_LC</th>\n",
       "      <th>CO_PROVA_LC</th>\n",
       "      <th>NU_NOTA_LC</th>\n",
       "      <th>TX_RESPOSTAS_LC</th>\n",
       "      <th>TX_GABARITO_LC</th>\n",
       "      <th>TP_LINGUA</th>\n",
       "    </tr>\n",
       "  </thead>\n",
       "  <tbody>\n",
       "    <tr>\n",
       "      <th>9017</th>\n",
       "      <td>1</td>\n",
       "      <td>1065.0</td>\n",
       "      <td>0.0</td>\n",
       "      <td>.............................................</td>\n",
       "      <td>DCBDEEDCAAEAAACABBDBEBACCBEEECCBBDCAAADCCABEDB...</td>\n",
       "      <td>0</td>\n",
       "    </tr>\n",
       "    <tr>\n",
       "      <th>17977</th>\n",
       "      <td>1</td>\n",
       "      <td>1065.0</td>\n",
       "      <td>0.0</td>\n",
       "      <td>.............................................</td>\n",
       "      <td>DCBDEEDCAAEAAACABBDBEBACCBEEECCBBDCAAADCCABEDB...</td>\n",
       "      <td>1</td>\n",
       "    </tr>\n",
       "    <tr>\n",
       "      <th>29820</th>\n",
       "      <td>1</td>\n",
       "      <td>1065.0</td>\n",
       "      <td>0.0</td>\n",
       "      <td>.............................................</td>\n",
       "      <td>DCBDEEDCAAEAAACABBDBEBACCBEEECCBBDCAAADCCABEDB...</td>\n",
       "      <td>1</td>\n",
       "    </tr>\n",
       "    <tr>\n",
       "      <th>45691</th>\n",
       "      <td>1</td>\n",
       "      <td>1065.0</td>\n",
       "      <td>0.0</td>\n",
       "      <td>.............................................</td>\n",
       "      <td>DCBDEEDCAAEAAACABBDBEBACCBEEECCBBDCAAADCCABEDB...</td>\n",
       "      <td>0</td>\n",
       "    </tr>\n",
       "    <tr>\n",
       "      <th>51089</th>\n",
       "      <td>1</td>\n",
       "      <td>1065.0</td>\n",
       "      <td>0.0</td>\n",
       "      <td>.............................................</td>\n",
       "      <td>DCBDEEDCAAEAAACABBDBEBACCBEEECCBBDCAAADCCABEDB...</td>\n",
       "      <td>0</td>\n",
       "    </tr>\n",
       "  </tbody>\n",
       "</table>\n",
       "</div>"
      ],
      "text/plain": [
       "       TP_PRESENCA_LC  CO_PROVA_LC  NU_NOTA_LC  \\\n",
       "9017                1       1065.0         0.0   \n",
       "17977               1       1065.0         0.0   \n",
       "29820               1       1065.0         0.0   \n",
       "45691               1       1065.0         0.0   \n",
       "51089               1       1065.0         0.0   \n",
       "\n",
       "                                     TX_RESPOSTAS_LC  \\\n",
       "9017   .............................................   \n",
       "17977  .............................................   \n",
       "29820  .............................................   \n",
       "45691  .............................................   \n",
       "51089  .............................................   \n",
       "\n",
       "                                          TX_GABARITO_LC  TP_LINGUA  \n",
       "9017   DCBDEEDCAAEAAACABBDBEBACCBEEECCBBDCAAADCCABEDB...          0  \n",
       "17977  DCBDEEDCAAEAAACABBDBEBACCBEEECCBBDCAAADCCABEDB...          1  \n",
       "29820  DCBDEEDCAAEAAACABBDBEBACCBEEECCBBDCAAADCCABEDB...          1  \n",
       "45691  DCBDEEDCAAEAAACABBDBEBACCBEEECCBBDCAAADCCABEDB...          0  \n",
       "51089  DCBDEEDCAAEAAACABBDBEBACCBEEECCBBDCAAADCCABEDB...          0  "
      ]
     },
     "metadata": {},
     "output_type": "display_data"
    },
    {
     "name": "stdout",
     "output_type": "stream",
     "text": [
      "Formato: (453, 6)\n"
     ]
    }
   ],
   "source": [
    "display(prova_lc_aplicacao_regular[prova_lc_aplicacao_regular['NU_NOTA_LC'] == 0].head())\n",
    "print(f'Formato:', prova_lc_aplicacao_regular[prova_lc_aplicacao_regular['NU_NOTA_LC'] == 0].shape)"
   ]
  },
  {
   "cell_type": "code",
   "execution_count": 42,
   "id": "9245d054",
   "metadata": {},
   "outputs": [
    {
     "data": {
      "text/plain": [
       "TX_RESPOSTAS_LC\n",
       ".............................................    453\n",
       "Name: count, dtype: int64"
      ]
     },
     "execution_count": 42,
     "metadata": {},
     "output_type": "execute_result"
    }
   ],
   "source": [
    "# Todas os registros com nota igual a 0 tem o campo TX_RESPOSTAS_CH preenchido somente com ponto (.).\n",
    "prova_lc_aplicacao_regular[prova_lc_aplicacao_regular['NU_NOTA_LC'] == 0]['TX_RESPOSTAS_LC'] .value_counts()"
   ]
  },
  {
   "cell_type": "code",
   "execution_count": 43,
   "id": "ea2dee66",
   "metadata": {},
   "outputs": [
    {
     "data": {
      "text/plain": [
       "count    612768.000000\n",
       "mean        517.314110\n",
       "std          76.876988\n",
       "min         270.600000\n",
       "25%         466.800000\n",
       "50%         525.600000\n",
       "75%         573.500000\n",
       "max         801.000000\n",
       "Name: NU_NOTA_LC, dtype: float64"
      ]
     },
     "execution_count": 43,
     "metadata": {},
     "output_type": "execute_result"
    }
   ],
   "source": [
    "# Como a análise do motivo da existência de registros com nota igual a 0 foge ao espcopo do presente estudo, os registros\n",
    "# foram eliminados.\n",
    "prova_lc_aplicacao_regular = prova_lc_aplicacao_regular[prova_lc_aplicacao_regular['NU_NOTA_LC'] != 0]\n",
    "\n",
    "# Medidas estatísticas das notas após remoção dos registros com nota igual a 0\n",
    "prova_lc_aplicacao_regular['NU_NOTA_LC'].describe()"
   ]
  },
  {
   "cell_type": "markdown",
   "id": "f59b956d",
   "metadata": {},
   "source": [
    "**Reaplicação, prova código 1145**\n",
    "<br>\n",
    "Colunas: Colunas: TP_PRESENCA_LC, CO_PROVA_LC, NU_NOTA_LC, TX_RESPOSTAS_LC, TX_GABARITO_LC, TP_LINGUA"
   ]
  },
  {
   "cell_type": "code",
   "execution_count": 44,
   "id": "f2d656fd",
   "metadata": {},
   "outputs": [
    {
     "data": {
      "text/html": [
       "<div>\n",
       "<style scoped>\n",
       "    .dataframe tbody tr th:only-of-type {\n",
       "        vertical-align: middle;\n",
       "    }\n",
       "\n",
       "    .dataframe tbody tr th {\n",
       "        vertical-align: top;\n",
       "    }\n",
       "\n",
       "    .dataframe thead th {\n",
       "        text-align: right;\n",
       "    }\n",
       "</style>\n",
       "<table border=\"1\" class=\"dataframe\">\n",
       "  <thead>\n",
       "    <tr style=\"text-align: right;\">\n",
       "      <th></th>\n",
       "      <th>TP_PRESENCA_LC</th>\n",
       "      <th>CO_PROVA_LC</th>\n",
       "      <th>NU_NOTA_LC</th>\n",
       "      <th>TX_RESPOSTAS_LC</th>\n",
       "      <th>TX_GABARITO_LC</th>\n",
       "      <th>TP_LINGUA</th>\n",
       "    </tr>\n",
       "  </thead>\n",
       "  <tbody>\n",
       "    <tr>\n",
       "      <th>2560</th>\n",
       "      <td>1</td>\n",
       "      <td>1145.0</td>\n",
       "      <td>545.0</td>\n",
       "      <td>CCEABBDAAACCBBCDEEEEDDEDDABDDAACDBCABBEEADBDE</td>\n",
       "      <td>ACBAACCCABBDBAADABCCDCEECBBACDCADDAACABABEBECB...</td>\n",
       "      <td>1</td>\n",
       "    </tr>\n",
       "    <tr>\n",
       "      <th>38525</th>\n",
       "      <td>1</td>\n",
       "      <td>1145.0</td>\n",
       "      <td>504.0</td>\n",
       "      <td>DABDBBDCBAACADAEAEECAABAABCCBCAAABAABBECBBBCA</td>\n",
       "      <td>ACBAACCCABBDBAADABCCDCEECBBACDCADDAACABABEBECB...</td>\n",
       "      <td>0</td>\n",
       "    </tr>\n",
       "    <tr>\n",
       "      <th>56997</th>\n",
       "      <td>1</td>\n",
       "      <td>1145.0</td>\n",
       "      <td>492.0</td>\n",
       "      <td>BBBCABBABADEEDCEAEBEDBDDBBADBCCECBACBBEEABBAA</td>\n",
       "      <td>ACBAACCCABBDBAADABCCDCEECBBACDCADDAACABABEBECB...</td>\n",
       "      <td>0</td>\n",
       "    </tr>\n",
       "    <tr>\n",
       "      <th>63080</th>\n",
       "      <td>1</td>\n",
       "      <td>1145.0</td>\n",
       "      <td>649.7</td>\n",
       "      <td>ACBAABDAAADABCCDBEECCBEBECAACAACABABEBECBABCA</td>\n",
       "      <td>ACBAACCCABBDBAADABCCDCEECBBACDCADDAACABABEBECB...</td>\n",
       "      <td>0</td>\n",
       "    </tr>\n",
       "    <tr>\n",
       "      <th>112129</th>\n",
       "      <td>1</td>\n",
       "      <td>1145.0</td>\n",
       "      <td>423.4</td>\n",
       "      <td>DACDCDCCDADCEDAEBCEDBBDDBCEDDBCEBACCEBEEBB*AD</td>\n",
       "      <td>ACBAACCCABBDBAADABCCDCEECBBACDCADDAACABABEBECB...</td>\n",
       "      <td>0</td>\n",
       "    </tr>\n",
       "  </tbody>\n",
       "</table>\n",
       "</div>"
      ],
      "text/plain": [
       "        TP_PRESENCA_LC  CO_PROVA_LC  NU_NOTA_LC  \\\n",
       "2560                 1       1145.0       545.0   \n",
       "38525                1       1145.0       504.0   \n",
       "56997                1       1145.0       492.0   \n",
       "63080                1       1145.0       649.7   \n",
       "112129               1       1145.0       423.4   \n",
       "\n",
       "                                      TX_RESPOSTAS_LC  \\\n",
       "2560    CCEABBDAAACCBBCDEEEEDDEDDABDDAACDBCABBEEADBDE   \n",
       "38525   DABDBBDCBAACADAEAEECAABAABCCBCAAABAABBECBBBCA   \n",
       "56997   BBBCABBABADEEDCEAEBEDBDDBBADBCCECBACBBEEABBAA   \n",
       "63080   ACBAABDAAADABCCDBEECCBEBECAACAACABABEBECBABCA   \n",
       "112129  DACDCDCCDADCEDAEBCEDBBDDBCEDDBCEBACCEBEEBB*AD   \n",
       "\n",
       "                                           TX_GABARITO_LC  TP_LINGUA  \n",
       "2560    ACBAACCCABBDBAADABCCDCEECBBACDCADDAACABABEBECB...          1  \n",
       "38525   ACBAACCCABBDBAADABCCDCEECBBACDCADDAACABABEBECB...          0  \n",
       "56997   ACBAACCCABBDBAADABCCDCEECBBACDCADDAACABABEBECB...          0  \n",
       "63080   ACBAACCCABBDBAADABCCDCEECBBACDCADDAACABABEBECB...          0  \n",
       "112129  ACBAACCCABBDBAADABCCDCEECBBACDCADDAACABABEBECB...          0  "
      ]
     },
     "metadata": {},
     "output_type": "display_data"
    },
    {
     "name": "stdout",
     "output_type": "stream",
     "text": [
      "Formato: (243, 6)\n"
     ]
    }
   ],
   "source": [
    "prova_lc_reaplicacao = df_prova_objetiva[df_prova_objetiva['CO_PROVA_LC'] == 1145]\n",
    "prova_lc_reaplicacao = prova_lc_reaplicacao[['TP_PRESENCA_LC', 'CO_PROVA_LC', 'NU_NOTA_LC', 'TX_RESPOSTAS_LC', 'TX_GABARITO_LC', 'TP_LINGUA']]\n",
    "display(prova_lc_reaplicacao.head())\n",
    "print(f'Formato: {prova_lc_reaplicacao.shape}')"
   ]
  },
  {
   "cell_type": "code",
   "execution_count": 45,
   "id": "d4f81d3a",
   "metadata": {},
   "outputs": [
    {
     "data": {
      "text/plain": [
       "count    243.000000\n",
       "mean     565.534979\n",
       "std       70.807406\n",
       "min      371.700000\n",
       "25%      517.250000\n",
       "50%      572.600000\n",
       "75%      614.250000\n",
       "max      723.300000\n",
       "Name: NU_NOTA_LC, dtype: float64"
      ]
     },
     "execution_count": 45,
     "metadata": {},
     "output_type": "execute_result"
    }
   ],
   "source": [
    "prova_lc_reaplicacao['NU_NOTA_LC'].describe()"
   ]
  },
  {
   "cell_type": "markdown",
   "id": "3b497617",
   "metadata": {},
   "source": [
    "> - A **média das notas dos participantes** na aplicação regular da prova de Linguagens e Códigos foi 517.31, com desvio padrão de 76.88. Já na reaplicação, a média foi 565.53, com desvio padrão de 70.81.\n",
    "> - As **notas mínima e máxima** foram, respectivamente: 270.60 e 801.00 na aplicação regular; e 371.70 e 723.30 na reaplicação.\n",
    "> - Enquanto 612.768 participantes realizaram a prova na aplicação regular, apenas 243 realizaram a reaplicação."
   ]
  },
  {
   "cell_type": "markdown",
   "id": "a29c2827",
   "metadata": {},
   "source": [
    "### 5.2. Visualização dos dados das provas de Linguagens e Códigos"
   ]
  },
  {
   "cell_type": "code",
   "execution_count": 46,
   "id": "d70f30e0",
   "metadata": {},
   "outputs": [],
   "source": [
    "prova_lc_aplicacao_regular = prova_lc_aplicacao_regular['NU_NOTA_LC']\n",
    "prova_lc_reaplicacao = prova_lc_reaplicacao['NU_NOTA_LC']"
   ]
  },
  {
   "cell_type": "code",
   "execution_count": 47,
   "id": "c25574e1",
   "metadata": {},
   "outputs": [
    {
     "data": {
      "image/png": "[encoded data removed]",
      "text/plain": [
       "<Figure size 700x500 with 1 Axes>"
      ]
     },
     "metadata": {},
     "output_type": "display_data"
    }
   ],
   "source": [
    "plt.figure(figsize=(7, 5))\n",
    "plt.hist(x = prova_lc_aplicacao_regular, bins=50, color='peachpuff', alpha=0.7, rwidth=0.85)\n",
    "plt.suptitle('Distribuição das notas de Linguagens e Códigos', fontsize=13)\n",
    "plt.title('Aplicação regular', fontsize=12)\n",
    "plt.ylabel('Frequência de notas', fontsize=11)\n",
    "plt.xlabel('Notas', fontsize=11)\n",
    "plt.box(False)\n",
    "plt.show()"
   ]
  },
  {
   "cell_type": "markdown",
   "id": "c1fff2c2",
   "metadata": {},
   "source": [
    "Os valores se concentram na extremidade superior da escala e se distribuem gradativamente em direção à extremidade inferior, evidenciando a assimetria negativa da distribuição."
   ]
  },
  {
   "cell_type": "code",
   "execution_count": 48,
   "id": "fcd50e86",
   "metadata": {},
   "outputs": [
    {
     "name": "stdout",
     "output_type": "stream",
     "text": [
      "Medida da assimetria das notas na aplicação regular (skewness): -0.3760009892455851\n"
     ]
    }
   ],
   "source": [
    "# Cálculo da medida de assimetria (skewness)\n",
    "s_lc_aplicacao_regular = prova_lc_aplicacao_regular.skew()\n",
    "print(\"Medida da assimetria das notas na aplicação regular (skewness):\", s_lc_aplicacao_regular)"
   ]
  },
  {
   "cell_type": "code",
   "execution_count": 49,
   "id": "fe486895",
   "metadata": {},
   "outputs": [
    {
     "data": {
      "image/png": "[encoded data removed]",
      "text/plain": [
       "<Figure size 700x500 with 1 Axes>"
      ]
     },
     "metadata": {},
     "output_type": "display_data"
    }
   ],
   "source": [
    "plt.figure(figsize=(7, 5))\n",
    "plt.hist(x = prova_lc_reaplicacao, bins=50, color='peachpuff', alpha=0.7, rwidth=0.85)\n",
    "plt.suptitle('Distribuição das notas de Linguagens e Códigos', fontsize=13)\n",
    "plt.title('Reaplicação', fontsize=12)\n",
    "plt.ylabel('Frequência de notas', fontsize=11)\n",
    "plt.xlabel('Notas', fontsize=11)\n",
    "plt.box(False)\n",
    "plt.show()"
   ]
  },
  {
   "cell_type": "markdown",
   "id": "278aa965",
   "metadata": {},
   "source": [
    "A distribuição das notas na reaplicação é assimétrica negativa, com concentração na extremidade superior e alongamento da cauda inferior. O valor da medida de assimetria é negativo."
   ]
  },
  {
   "cell_type": "code",
   "execution_count": 50,
   "id": "66149c83",
   "metadata": {},
   "outputs": [
    {
     "name": "stdout",
     "output_type": "stream",
     "text": [
      "Medida da assimetria das notas na reaplicação (skewness): -0.35510881902201746\n"
     ]
    }
   ],
   "source": [
    "# Cálculo da medida de assimetria (skewness)\n",
    "s_lc_reaplicacao = prova_lc_reaplicacao.skew()\n",
    "print(\"Medida da assimetria das notas na reaplicação (skewness):\", s_lc_reaplicacao)"
   ]
  },
  {
   "cell_type": "markdown",
   "id": "4db16aa9",
   "metadata": {},
   "source": [
    "### 5.3. Teste de hipótese para as provas de Linguagens e Códigos\n",
    "> **H0: média das notas da aplicação regular = média das notas da reaplicação**\n",
    "<br>\n",
    "**H1: média das notas da aplicação regular $\\neq$ média das notas da reaplicação**"
   ]
  },
  {
   "cell_type": "markdown",
   "id": "ff317871",
   "metadata": {},
   "source": [
    "### 5.3.1. Verificação da normalidade das distribuições"
   ]
  },
  {
   "cell_type": "code",
   "execution_count": 51,
   "id": "0141180e",
   "metadata": {},
   "outputs": [
    {
     "name": "stdout",
     "output_type": "stream",
     "text": [
      "\n",
      "Resultado do teste de normalidade da aplicação regular da prova de Linguagens e Códigos:\n",
      "p-value: 0.0\n",
      "H0 rejeitada, a distribuição não é normal.\n",
      "\n",
      "Resultado do teste de normalidade da reaplicação da prova de Linguagens e Códigos:\n",
      "p-value: 0.025588140118903077\n",
      "H0 rejeitada, a distribuição não é normal.\n"
     ]
    }
   ],
   "source": [
    "# Verificação da normalidade\n",
    "\n",
    "# Aplicação regular\n",
    "print('\\nResultado do teste de normalidade da aplicação regular da prova de Linguagens e Códigos:')\n",
    "testa_normalidade(prova_lc_aplicacao_regular)\n",
    "\n",
    "# Reaplicação\n",
    "print('\\nResultado do teste de normalidade da reaplicação da prova de Linguagens e Códigos:')\n",
    "testa_normalidade(prova_lc_reaplicacao)"
   ]
  },
  {
   "cell_type": "markdown",
   "id": "a51a8942",
   "metadata": {},
   "source": [
    "### 5.3.2. Aplicação do teste de hipótese"
   ]
  },
  {
   "cell_type": "code",
   "execution_count": 75,
   "id": "72460ecb",
   "metadata": {},
   "outputs": [
    {
     "name": "stdout",
     "output_type": "stream",
     "text": [
      "p-value: 3.2054961727122943e-21\n",
      "H0 rejeitada: os valores de média são diferentes.\n"
     ]
    }
   ],
   "source": [
    "# Com as distribuições não são normais, realizaremos o teste de hipótese com o teste U (Mann_Whitney).\n",
    "\n",
    "# Comparação das notas na aplicação regular e na reaplicação da prova de Letras e Códigos.\n",
    "result = stats.mannwhitneyu(prova_lc_aplicacao_regular, prova_lc_reaplicacao)\n",
    "pvalue = result.pvalue\n",
    "\n",
    "print('p-value:', pvalue)\n",
    "\n",
    "if pvalue <= 0.05:\n",
    "  print('H0 rejeitada: os valores de média são diferentes.')\n",
    "else:\n",
    "  print('H0 aceita: os valores de média são iguais.')"
   ]
  },
  {
   "cell_type": "markdown",
   "id": "9ecfe1c7",
   "metadata": {},
   "source": [
    "---"
   ]
  },
  {
   "cell_type": "markdown",
   "id": "49492a0a",
   "metadata": {},
   "source": [
    "### 6. Matemática"
   ]
  },
  {
   "cell_type": "markdown",
   "id": "f7ae6d13",
   "metadata": {},
   "source": [
    "### 6.1. Descrição dos dados nas provas de Matemática"
   ]
  },
  {
   "cell_type": "markdown",
   "id": "98507e27",
   "metadata": {},
   "source": [
    "**Aplicação regular (prova código 1075)**\n",
    "<br>\n",
    "Colunas: TP_PRESENCA_MT, CO_PROVA_MT, NU_NOTA_MT, TX_RESPOSTAS_MT, TX_GABARITO_MT"
   ]
  },
  {
   "cell_type": "code",
   "execution_count": 53,
   "id": "b2eef206",
   "metadata": {
    "scrolled": true
   },
   "outputs": [
    {
     "data": {
      "text/html": [
       "<div>\n",
       "<style scoped>\n",
       "    .dataframe tbody tr th:only-of-type {\n",
       "        vertical-align: middle;\n",
       "    }\n",
       "\n",
       "    .dataframe tbody tr th {\n",
       "        vertical-align: top;\n",
       "    }\n",
       "\n",
       "    .dataframe thead th {\n",
       "        text-align: right;\n",
       "    }\n",
       "</style>\n",
       "<table border=\"1\" class=\"dataframe\">\n",
       "  <thead>\n",
       "    <tr style=\"text-align: right;\">\n",
       "      <th></th>\n",
       "      <th>TP_PRESENCA_MT</th>\n",
       "      <th>CO_PROVA_MT</th>\n",
       "      <th>NU_NOTA_MT</th>\n",
       "      <th>TX_RESPOSTAS_MT</th>\n",
       "      <th>TX_GABARITO_MT</th>\n",
       "    </tr>\n",
       "  </thead>\n",
       "  <tbody>\n",
       "    <tr>\n",
       "      <th>31</th>\n",
       "      <td>1</td>\n",
       "      <td>1075.0</td>\n",
       "      <td>352.4</td>\n",
       "      <td>CBEACDCDBACACCBBACAADCDEBADEABEDACCEABCADCBCD</td>\n",
       "      <td>ECDABEBDCEECDBDCCCCBCXCBAACDBAAACEBABDDEDAEBE</td>\n",
       "    </tr>\n",
       "    <tr>\n",
       "      <th>33</th>\n",
       "      <td>1</td>\n",
       "      <td>1075.0</td>\n",
       "      <td>536.3</td>\n",
       "      <td>DCBDBBBDAEAADCEDACCBAAEBECDCBCBBCEBCACBEBECDE</td>\n",
       "      <td>ECDABEBDCEECDBDCCCCBCXCBAACDBAAACEBABDDEDAEBE</td>\n",
       "    </tr>\n",
       "    <tr>\n",
       "      <th>36</th>\n",
       "      <td>1</td>\n",
       "      <td>1075.0</td>\n",
       "      <td>446.4</td>\n",
       "      <td>BCDBADACBDCEBDCDCACEBAEAECCDCCDEACEAEAADCECBE</td>\n",
       "      <td>ECDABEBDCEECDBDCCCCBCXCBAACDBAAACEBABDDEDAEBE</td>\n",
       "    </tr>\n",
       "    <tr>\n",
       "      <th>37</th>\n",
       "      <td>1</td>\n",
       "      <td>1075.0</td>\n",
       "      <td>474.7</td>\n",
       "      <td>EBBCABBBADCBBDCACBAECAEEBBEAACAEACEBACCEBACBD</td>\n",
       "      <td>ECDABEBDCEECDBDCCCCBCXCBAACDBAAACEBABDDEDAEBE</td>\n",
       "    </tr>\n",
       "    <tr>\n",
       "      <th>38</th>\n",
       "      <td>1</td>\n",
       "      <td>1075.0</td>\n",
       "      <td>408.5</td>\n",
       "      <td>DBDCBBCDADEBECACBDADBCDBACBCDBDBCECBABDBDCCAE</td>\n",
       "      <td>ECDABEBDCEECDBDCCCCBCXCBAACDBAAACEBABDDEDAEBE</td>\n",
       "    </tr>\n",
       "  </tbody>\n",
       "</table>\n",
       "</div>"
      ],
      "text/plain": [
       "    TP_PRESENCA_MT  CO_PROVA_MT  NU_NOTA_MT  \\\n",
       "31               1       1075.0       352.4   \n",
       "33               1       1075.0       536.3   \n",
       "36               1       1075.0       446.4   \n",
       "37               1       1075.0       474.7   \n",
       "38               1       1075.0       408.5   \n",
       "\n",
       "                                  TX_RESPOSTAS_MT  \\\n",
       "31  CBEACDCDBACACCBBACAADCDEBADEABEDACCEABCADCBCD   \n",
       "33  DCBDBBBDAEAADCEDACCBAAEBECDCBCBBCEBCACBEBECDE   \n",
       "36  BCDBADACBDCEBDCDCACEBAEAECCDCCDEACEAEAADCECBE   \n",
       "37  EBBCABBBADCBBDCACBAECAEEBBEAACAEACEBACCEBACBD   \n",
       "38  DBDCBBCDADEBECACBDADBCDBACBCDBDBCECBABDBDCCAE   \n",
       "\n",
       "                                   TX_GABARITO_MT  \n",
       "31  ECDABEBDCEECDBDCCCCBCXCBAACDBAAACEBABDDEDAEBE  \n",
       "33  ECDABEBDCEECDBDCCCCBCXCBAACDBAAACEBABDDEDAEBE  \n",
       "36  ECDABEBDCEECDBDCCCCBCXCBAACDBAAACEBABDDEDAEBE  \n",
       "37  ECDABEBDCEECDBDCCCCBCXCBAACDBAAACEBABDDEDAEBE  \n",
       "38  ECDABEBDCEECDBDCCCCBCXCBAACDBAAACEBABDDEDAEBE  "
      ]
     },
     "metadata": {},
     "output_type": "display_data"
    },
    {
     "name": "stdout",
     "output_type": "stream",
     "text": [
      "Formato: (578780, 5)\n"
     ]
    }
   ],
   "source": [
    "prova_mt_aplicacao_regular = df_prova_objetiva[df_prova_objetiva['CO_PROVA_MT'] == 1075]\n",
    "prova_mt_aplicacao_regular = prova_mt_aplicacao_regular[['TP_PRESENCA_MT', 'CO_PROVA_MT', 'NU_NOTA_MT', 'TX_RESPOSTAS_MT', 'TX_GABARITO_MT']]\n",
    "display(prova_mt_aplicacao_regular.head())\n",
    "print(f'Formato: {prova_mt_aplicacao_regular.shape}')"
   ]
  },
  {
   "cell_type": "code",
   "execution_count": 54,
   "id": "a561832e",
   "metadata": {},
   "outputs": [
    {
     "data": {
      "text/plain": [
       "TP_PRESENCA_MT\n",
       "1    578780\n",
       "Name: count, dtype: int64"
      ]
     },
     "execution_count": 54,
     "metadata": {},
     "output_type": "execute_result"
    }
   ],
   "source": [
    "# Não há registros de participantes faltantes ou eliminados\n",
    "prova_mt_aplicacao_regular['TP_PRESENCA_MT'].value_counts()"
   ]
  },
  {
   "cell_type": "code",
   "execution_count": 55,
   "id": "edeb6b57",
   "metadata": {},
   "outputs": [
    {
     "data": {
      "text/plain": [
       "count    578780.000000\n",
       "mean        532.878517\n",
       "std         116.696317\n",
       "min           0.000000\n",
       "25%         438.700000\n",
       "50%         516.200000\n",
       "75%         612.300000\n",
       "max         985.700000\n",
       "Name: NU_NOTA_MT, dtype: float64"
      ]
     },
     "execution_count": 55,
     "metadata": {},
     "output_type": "execute_result"
    }
   ],
   "source": [
    "# Medidas estatísticas das notas\n",
    "prova_mt_aplicacao_regular['NU_NOTA_MT'].describe()"
   ]
  },
  {
   "cell_type": "markdown",
   "id": "be989294",
   "metadata": {},
   "source": [
    "Tratamento das notas iguais a 0 (zero)."
   ]
  },
  {
   "cell_type": "code",
   "execution_count": 56,
   "id": "15e97d8d",
   "metadata": {},
   "outputs": [
    {
     "data": {
      "text/html": [
       "<div>\n",
       "<style scoped>\n",
       "    .dataframe tbody tr th:only-of-type {\n",
       "        vertical-align: middle;\n",
       "    }\n",
       "\n",
       "    .dataframe tbody tr th {\n",
       "        vertical-align: top;\n",
       "    }\n",
       "\n",
       "    .dataframe thead th {\n",
       "        text-align: right;\n",
       "    }\n",
       "</style>\n",
       "<table border=\"1\" class=\"dataframe\">\n",
       "  <thead>\n",
       "    <tr style=\"text-align: right;\">\n",
       "      <th></th>\n",
       "      <th>TP_PRESENCA_MT</th>\n",
       "      <th>CO_PROVA_MT</th>\n",
       "      <th>NU_NOTA_MT</th>\n",
       "      <th>TX_RESPOSTAS_MT</th>\n",
       "      <th>TX_GABARITO_MT</th>\n",
       "    </tr>\n",
       "  </thead>\n",
       "  <tbody>\n",
       "    <tr>\n",
       "      <th>25601</th>\n",
       "      <td>1</td>\n",
       "      <td>1075.0</td>\n",
       "      <td>0.0</td>\n",
       "      <td>.............................................</td>\n",
       "      <td>ECDABEBDCEECDBDCCCCBCXCBAACDBAAACEBABDDEDAEBE</td>\n",
       "    </tr>\n",
       "    <tr>\n",
       "      <th>106581</th>\n",
       "      <td>1</td>\n",
       "      <td>1075.0</td>\n",
       "      <td>0.0</td>\n",
       "      <td>.............................................</td>\n",
       "      <td>ECDABEBDCEECDBDCCCCBCXCBAACDBAAACEBABDDEDAEBE</td>\n",
       "    </tr>\n",
       "    <tr>\n",
       "      <th>166376</th>\n",
       "      <td>1</td>\n",
       "      <td>1075.0</td>\n",
       "      <td>0.0</td>\n",
       "      <td>.............................................</td>\n",
       "      <td>ECDABEBDCEECDBDCCCCBCXCBAACDBAAACEBABDDEDAEBE</td>\n",
       "    </tr>\n",
       "    <tr>\n",
       "      <th>233768</th>\n",
       "      <td>1</td>\n",
       "      <td>1075.0</td>\n",
       "      <td>0.0</td>\n",
       "      <td>.............................................</td>\n",
       "      <td>ECDABEBDCEECDBDCCCCBCXCBAACDBAAACEBABDDEDAEBE</td>\n",
       "    </tr>\n",
       "    <tr>\n",
       "      <th>304030</th>\n",
       "      <td>1</td>\n",
       "      <td>1075.0</td>\n",
       "      <td>0.0</td>\n",
       "      <td>.............................................</td>\n",
       "      <td>ECDABEBDCEECDBDCCCCBCXCBAACDBAAACEBABDDEDAEBE</td>\n",
       "    </tr>\n",
       "  </tbody>\n",
       "</table>\n",
       "</div>"
      ],
      "text/plain": [
       "        TP_PRESENCA_MT  CO_PROVA_MT  NU_NOTA_MT  \\\n",
       "25601                1       1075.0         0.0   \n",
       "106581               1       1075.0         0.0   \n",
       "166376               1       1075.0         0.0   \n",
       "233768               1       1075.0         0.0   \n",
       "304030               1       1075.0         0.0   \n",
       "\n",
       "                                      TX_RESPOSTAS_MT  \\\n",
       "25601   .............................................   \n",
       "106581  .............................................   \n",
       "166376  .............................................   \n",
       "233768  .............................................   \n",
       "304030  .............................................   \n",
       "\n",
       "                                       TX_GABARITO_MT  \n",
       "25601   ECDABEBDCEECDBDCCCCBCXCBAACDBAAACEBABDDEDAEBE  \n",
       "106581  ECDABEBDCEECDBDCCCCBCXCBAACDBAAACEBABDDEDAEBE  \n",
       "166376  ECDABEBDCEECDBDCCCCBCXCBAACDBAAACEBABDDEDAEBE  \n",
       "233768  ECDABEBDCEECDBDCCCCBCXCBAACDBAAACEBABDDEDAEBE  \n",
       "304030  ECDABEBDCEECDBDCCCCBCXCBAACDBAAACEBABDDEDAEBE  "
      ]
     },
     "metadata": {},
     "output_type": "display_data"
    },
    {
     "name": "stdout",
     "output_type": "stream",
     "text": [
      "Formato: (128, 5)\n"
     ]
    }
   ],
   "source": [
    "display(prova_mt_aplicacao_regular[prova_mt_aplicacao_regular['NU_NOTA_MT'] == 0].head())\n",
    "print(f'Formato:', prova_mt_aplicacao_regular[prova_mt_aplicacao_regular['NU_NOTA_MT'] == 0].shape)"
   ]
  },
  {
   "cell_type": "code",
   "execution_count": 57,
   "id": "72e2e863",
   "metadata": {},
   "outputs": [
    {
     "data": {
      "text/plain": [
       "TX_RESPOSTAS_MT\n",
       ".............................................    128\n",
       "Name: count, dtype: int64"
      ]
     },
     "execution_count": 57,
     "metadata": {},
     "output_type": "execute_result"
    }
   ],
   "source": [
    "# Todas os registros com nota igual a 0 tem o campo TX_RESPOSTAS_CH preenchido somente com ponto (.).\n",
    "prova_mt_aplicacao_regular[prova_mt_aplicacao_regular['NU_NOTA_MT'] == 0]['TX_RESPOSTAS_MT'] .value_counts()"
   ]
  },
  {
   "cell_type": "code",
   "execution_count": 58,
   "id": "b4abed6d",
   "metadata": {},
   "outputs": [
    {
     "data": {
      "text/plain": [
       "count    578652.000000\n",
       "mean        532.996392\n",
       "std         116.439752\n",
       "min         336.800000\n",
       "25%         438.800000\n",
       "50%         516.200000\n",
       "75%         612.300000\n",
       "max         985.700000\n",
       "Name: NU_NOTA_MT, dtype: float64"
      ]
     },
     "execution_count": 58,
     "metadata": {},
     "output_type": "execute_result"
    }
   ],
   "source": [
    "# Como a análise do motivo da existência de registros com nota igual a 0 foge ao espcopo do presente estudo, os registros\n",
    "# foram eliminados.\n",
    "prova_mt_aplicacao_regular = prova_mt_aplicacao_regular[prova_mt_aplicacao_regular['NU_NOTA_MT'] != 0]\n",
    "\n",
    "# Medidas estatísticas das notas após remoção dos registros com nota igual a 0\n",
    "prova_mt_aplicacao_regular['NU_NOTA_MT'].describe()"
   ]
  },
  {
   "cell_type": "markdown",
   "id": "81d053ab",
   "metadata": {},
   "source": [
    "**Reaplicação, prova código 1155**\n",
    "<br>\n",
    "Colunas: Colunas: TP_PRESENCA_MT, CO_PROVA_MT, NU_NOTA_MT, TX_RESPOSTAS_MT, TX_GABARITO_MT"
   ]
  },
  {
   "cell_type": "code",
   "execution_count": 59,
   "id": "124520fa",
   "metadata": {},
   "outputs": [
    {
     "data": {
      "text/html": [
       "<div>\n",
       "<style scoped>\n",
       "    .dataframe tbody tr th:only-of-type {\n",
       "        vertical-align: middle;\n",
       "    }\n",
       "\n",
       "    .dataframe tbody tr th {\n",
       "        vertical-align: top;\n",
       "    }\n",
       "\n",
       "    .dataframe thead th {\n",
       "        text-align: right;\n",
       "    }\n",
       "</style>\n",
       "<table border=\"1\" class=\"dataframe\">\n",
       "  <thead>\n",
       "    <tr style=\"text-align: right;\">\n",
       "      <th></th>\n",
       "      <th>TP_PRESENCA_MT</th>\n",
       "      <th>CO_PROVA_MT</th>\n",
       "      <th>NU_NOTA_MT</th>\n",
       "      <th>TX_RESPOSTAS_MT</th>\n",
       "      <th>TX_GABARITO_MT</th>\n",
       "    </tr>\n",
       "  </thead>\n",
       "  <tbody>\n",
       "    <tr>\n",
       "      <th>13135</th>\n",
       "      <td>1</td>\n",
       "      <td>1155.0</td>\n",
       "      <td>421.4</td>\n",
       "      <td>ADABEDBDEBBBBBACBBDBBADCCADDAECACBACBDBABADEE</td>\n",
       "      <td>BDCDBDECBDDCBACBADBDDCCEADCBEDBACDECACBDBABDE</td>\n",
       "    </tr>\n",
       "    <tr>\n",
       "      <th>13146</th>\n",
       "      <td>1</td>\n",
       "      <td>1155.0</td>\n",
       "      <td>413.3</td>\n",
       "      <td>AADBDDCEBDBCBABDCCEDACDAECBDBDADBCEADBCCBDBCA</td>\n",
       "      <td>BDCDBDECBDDCBACBADBDDCCEADCBEDBACDECACBDBABDE</td>\n",
       "    </tr>\n",
       "    <tr>\n",
       "      <th>16205</th>\n",
       "      <td>1</td>\n",
       "      <td>1155.0</td>\n",
       "      <td>524.6</td>\n",
       "      <td>BDEBABDECCECEBCDBDBBBDDACDCEA*DCBEEBDDBBCACDA</td>\n",
       "      <td>BDCDBDECBDDCBACBADBDDCCEADCBEDBACDECACBDBABDE</td>\n",
       "    </tr>\n",
       "    <tr>\n",
       "      <th>22419</th>\n",
       "      <td>1</td>\n",
       "      <td>1155.0</td>\n",
       "      <td>536.9</td>\n",
       "      <td>BAEDDADCADEDEABAAABBACCDCCCDDDCDDDECDCBCDABEA</td>\n",
       "      <td>BDCDBDECBDDCBACBADBDDCCEADCBEDBACDECACBDBABDE</td>\n",
       "    </tr>\n",
       "    <tr>\n",
       "      <th>24662</th>\n",
       "      <td>1</td>\n",
       "      <td>1155.0</td>\n",
       "      <td>394.2</td>\n",
       "      <td>AEEAECACBABEDCAADDAEDCCCEEDACCCBAEEEEACCECEEC</td>\n",
       "      <td>BDCDBDECBDDCBACBADBDDCCEADCBEDBACDECACBDBABDE</td>\n",
       "    </tr>\n",
       "  </tbody>\n",
       "</table>\n",
       "</div>"
      ],
      "text/plain": [
       "       TP_PRESENCA_MT  CO_PROVA_MT  NU_NOTA_MT  \\\n",
       "13135               1       1155.0       421.4   \n",
       "13146               1       1155.0       413.3   \n",
       "16205               1       1155.0       524.6   \n",
       "22419               1       1155.0       536.9   \n",
       "24662               1       1155.0       394.2   \n",
       "\n",
       "                                     TX_RESPOSTAS_MT  \\\n",
       "13135  ADABEDBDEBBBBBACBBDBBADCCADDAECACBACBDBABADEE   \n",
       "13146  AADBDDCEBDBCBABDCCEDACDAECBDBDADBCEADBCCBDBCA   \n",
       "16205  BDEBABDECCECEBCDBDBBBDDACDCEA*DCBEEBDDBBCACDA   \n",
       "22419  BAEDDADCADEDEABAAABBACCDCCCDDDCDDDECDCBCDABEA   \n",
       "24662  AEEAECACBABEDCAADDAEDCCCEEDACCCBAEEEEACCECEEC   \n",
       "\n",
       "                                      TX_GABARITO_MT  \n",
       "13135  BDCDBDECBDDCBACBADBDDCCEADCBEDBACDECACBDBABDE  \n",
       "13146  BDCDBDECBDDCBACBADBDDCCEADCBEDBACDECACBDBABDE  \n",
       "16205  BDCDBDECBDDCBACBADBDDCCEADCBEDBACDECACBDBABDE  \n",
       "22419  BDCDBDECBDDCBACBADBDDCCEADCBEDBACDECACBDBABDE  \n",
       "24662  BDCDBDECBDDCBACBADBDDCCEADCBEDBACDECACBDBABDE  "
      ]
     },
     "metadata": {},
     "output_type": "display_data"
    },
    {
     "name": "stdout",
     "output_type": "stream",
     "text": [
      "Formato: (513, 5)\n"
     ]
    }
   ],
   "source": [
    "prova_mt_reaplicacao = df_prova_objetiva[df_prova_objetiva['CO_PROVA_MT'] == 1155]\n",
    "prova_mt_reaplicacao = prova_mt_reaplicacao[['TP_PRESENCA_MT', 'CO_PROVA_MT', 'NU_NOTA_MT', 'TX_RESPOSTAS_MT', 'TX_GABARITO_MT']]\n",
    "display(prova_mt_reaplicacao.head())\n",
    "print(f'Formato: {prova_mt_reaplicacao.shape}')"
   ]
  },
  {
   "cell_type": "code",
   "execution_count": 60,
   "id": "8044c05a",
   "metadata": {},
   "outputs": [
    {
     "data": {
      "text/plain": [
       "count    513.000000\n",
       "mean     556.029435\n",
       "std      128.547297\n",
       "min        0.000000\n",
       "25%      454.400000\n",
       "50%      541.700000\n",
       "75%      643.500000\n",
       "max      942.000000\n",
       "Name: NU_NOTA_MT, dtype: float64"
      ]
     },
     "execution_count": 60,
     "metadata": {},
     "output_type": "execute_result"
    }
   ],
   "source": [
    "prova_mt_reaplicacao['NU_NOTA_MT'].describe()"
   ]
  },
  {
   "cell_type": "markdown",
   "id": "3277addb",
   "metadata": {},
   "source": [
    "Tratamento das notas iguais a 0 (zero)."
   ]
  },
  {
   "cell_type": "code",
   "execution_count": 61,
   "id": "c3212fb0",
   "metadata": {},
   "outputs": [
    {
     "data": {
      "text/html": [
       "<div>\n",
       "<style scoped>\n",
       "    .dataframe tbody tr th:only-of-type {\n",
       "        vertical-align: middle;\n",
       "    }\n",
       "\n",
       "    .dataframe tbody tr th {\n",
       "        vertical-align: top;\n",
       "    }\n",
       "\n",
       "    .dataframe thead th {\n",
       "        text-align: right;\n",
       "    }\n",
       "</style>\n",
       "<table border=\"1\" class=\"dataframe\">\n",
       "  <thead>\n",
       "    <tr style=\"text-align: right;\">\n",
       "      <th></th>\n",
       "      <th>TP_PRESENCA_MT</th>\n",
       "      <th>CO_PROVA_MT</th>\n",
       "      <th>NU_NOTA_MT</th>\n",
       "      <th>TX_RESPOSTAS_MT</th>\n",
       "      <th>TX_GABARITO_MT</th>\n",
       "    </tr>\n",
       "  </thead>\n",
       "  <tbody>\n",
       "    <tr>\n",
       "      <th>1446273</th>\n",
       "      <td>1</td>\n",
       "      <td>1155.0</td>\n",
       "      <td>0.0</td>\n",
       "      <td>.............................................</td>\n",
       "      <td>BDCDBDECBDDCBACBADBDDCCEADCBEDBACDECACBDBABDE</td>\n",
       "    </tr>\n",
       "  </tbody>\n",
       "</table>\n",
       "</div>"
      ],
      "text/plain": [
       "         TP_PRESENCA_MT  CO_PROVA_MT  NU_NOTA_MT  \\\n",
       "1446273               1       1155.0         0.0   \n",
       "\n",
       "                                       TX_RESPOSTAS_MT  \\\n",
       "1446273  .............................................   \n",
       "\n",
       "                                        TX_GABARITO_MT  \n",
       "1446273  BDCDBDECBDDCBACBADBDDCCEADCBEDBACDECACBDBABDE  "
      ]
     },
     "metadata": {},
     "output_type": "display_data"
    },
    {
     "name": "stdout",
     "output_type": "stream",
     "text": [
      "Formato: (1, 5)\n"
     ]
    }
   ],
   "source": [
    "display(prova_mt_reaplicacao[prova_mt_reaplicacao['NU_NOTA_MT'] == 0].head())\n",
    "print(f'Formato:', prova_mt_reaplicacao[prova_mt_reaplicacao['NU_NOTA_MT'] == 0].shape)"
   ]
  },
  {
   "cell_type": "code",
   "execution_count": 62,
   "id": "2daac0a2",
   "metadata": {},
   "outputs": [
    {
     "data": {
      "text/plain": [
       "count    512.000000\n",
       "mean     557.115430\n",
       "std      126.295433\n",
       "min      359.200000\n",
       "25%      455.450000\n",
       "50%      541.950000\n",
       "75%      643.525000\n",
       "max      942.000000\n",
       "Name: NU_NOTA_MT, dtype: float64"
      ]
     },
     "execution_count": 62,
     "metadata": {},
     "output_type": "execute_result"
    }
   ],
   "source": [
    "# Como a análise do motivo da existência de registros com nota igual a 0 foge ao espcopo do presente estudo, os registros\n",
    "# foram eliminados.\n",
    "prova_mt_reaplicacao = prova_mt_reaplicacao[prova_mt_reaplicacao['NU_NOTA_MT'] != 0]\n",
    "\n",
    "# Medidas estatísticas das notas após remoção dos registros com nota igual a 0\n",
    "prova_mt_reaplicacao['NU_NOTA_MT'].describe()"
   ]
  },
  {
   "cell_type": "markdown",
   "id": "64d17312",
   "metadata": {},
   "source": [
    "> - A **média das notas dos participantes** na aplicação regular da prova de Linguagens e Códigos foi 533.00, com desvio padrão de 116.44. Já na reaplicação, a média foi 557.16, com desvio padrão de 126.30.\n",
    "> - As **notas mínima e máxima** foram, respectivamente: 336.80 e 985.70 na aplicação regular; e 359.20 e 942.00 na reaplicação.\n",
    "> - Enquanto 578.652 participantes realizaram a prova na aplicação regular, apenas 512 realizaram a reaplicação."
   ]
  },
  {
   "cell_type": "markdown",
   "id": "c261d9d3",
   "metadata": {},
   "source": [
    "### 6.2. Visualização dos dados das provas de Matemática"
   ]
  },
  {
   "cell_type": "code",
   "execution_count": 63,
   "id": "3b5f9080",
   "metadata": {},
   "outputs": [],
   "source": [
    "prova_mt_aplicacao_regular = prova_mt_aplicacao_regular['NU_NOTA_MT']\n",
    "prova_mt_reaplicacao = prova_mt_reaplicacao['NU_NOTA_MT']"
   ]
  },
  {
   "cell_type": "code",
   "execution_count": 64,
   "id": "57876387",
   "metadata": {},
   "outputs": [
    {
     "data": {
      "image/png": "[encoded data removed]",
      "text/plain": [
       "<Figure size 700x500 with 1 Axes>"
      ]
     },
     "metadata": {},
     "output_type": "display_data"
    }
   ],
   "source": [
    "plt.figure(figsize=(7, 5))\n",
    "plt.hist(x = prova_mt_aplicacao_regular, bins=50, color='thistle', alpha=0.7, rwidth=0.85)\n",
    "plt.suptitle('Distribuição das notas de Matemática', fontsize=13)\n",
    "plt.title('Aplicação regular', fontsize=12)\n",
    "plt.ylabel('Frequência de notas', fontsize=11)\n",
    "plt.xlabel('Notas', fontsize=11)\n",
    "plt.box(False)\n",
    "plt.show()"
   ]
  },
  {
   "cell_type": "markdown",
   "id": "f9ac54eb",
   "metadata": {},
   "source": [
    "Os valores se concentram majoritariamente na extremidade inferior da escala e se distribuem gradativamente em direção à extremidade superior, evidenciando a assimetria positiva forte da distribuição."
   ]
  },
  {
   "cell_type": "code",
   "execution_count": 65,
   "id": "43367583",
   "metadata": {},
   "outputs": [
    {
     "name": "stdout",
     "output_type": "stream",
     "text": [
      "Medida da assimetria das notas na aplicação regular (skewness): 0.6197173991963125\n"
     ]
    }
   ],
   "source": [
    "# Cálculo da medida de assimetria (skewness)\n",
    "s_mt_aplicacao_regular = prova_mt_aplicacao_regular.skew()\n",
    "print(\"Medida da assimetria das notas na aplicação regular (skewness):\", s_mt_aplicacao_regular)"
   ]
  },
  {
   "cell_type": "code",
   "execution_count": 66,
   "id": "8a742243",
   "metadata": {},
   "outputs": [
    {
     "data": {
      "image/png": "[encoded data removed]",
      "text/plain": [
       "<Figure size 700x500 with 1 Axes>"
      ]
     },
     "metadata": {},
     "output_type": "display_data"
    }
   ],
   "source": [
    "plt.figure(figsize=(7, 5))\n",
    "plt.hist(x = prova_mt_reaplicacao, bins=50, color='thistle', alpha=0.7, rwidth=0.85)\n",
    "plt.suptitle('Distribuição das notas de Matemática', fontsize=13)\n",
    "plt.title('Reaplicação', fontsize=12)\n",
    "plt.ylabel('Frequência de notas', fontsize=11)\n",
    "plt.xlabel('Notas', fontsize=11)\n",
    "plt.box(False)\n",
    "plt.show()"
   ]
  },
  {
   "cell_type": "markdown",
   "id": "ebf0824d",
   "metadata": {},
   "source": [
    "A distribuição das notas na reaplicação também é assimétrica positiva, com concentração na extremidade inferior."
   ]
  },
  {
   "cell_type": "code",
   "execution_count": 67,
   "id": "a4c8d65c",
   "metadata": {},
   "outputs": [
    {
     "name": "stdout",
     "output_type": "stream",
     "text": [
      "Medida da assimetria das notas na reaplicação (skewness): 0.5425086223059764\n"
     ]
    }
   ],
   "source": [
    "# Cálculo da medida de assimetria (skewness)\n",
    "s_mt_reaplicacao = prova_mt_reaplicacao.skew()\n",
    "print(\"Medida da assimetria das notas na reaplicação (skewness):\", s_mt_reaplicacao)"
   ]
  },
  {
   "cell_type": "markdown",
   "id": "c9762dde",
   "metadata": {},
   "source": [
    "### 6.3. Teste de hipótese para as provas de Matemática\n",
    "> **H0: média das notas da aplicação regular = média das notas da reaplicação**\n",
    "<br>\n",
    "**H1: média das notas da aplicação regular $\\neq$ média das notas da reaplicação**"
   ]
  },
  {
   "cell_type": "markdown",
   "id": "2ff73f79",
   "metadata": {},
   "source": [
    "### 6.3.1. Verificação da normalidade das distribuições"
   ]
  },
  {
   "cell_type": "code",
   "execution_count": 68,
   "id": "2333b76c",
   "metadata": {},
   "outputs": [
    {
     "name": "stdout",
     "output_type": "stream",
     "text": [
      "\n",
      "Resultado do teste de normalidade da aplicação regular da prova de Matemática:\n",
      "p-value: 0.0\n",
      "H0 rejeitada, a distribuição não é normal.\n",
      "\n",
      "Resultado do teste de normalidade da reaplicação da prova de Matemática:\n",
      "p-value: 2.3687872135015716e-06\n",
      "H0 rejeitada, a distribuição não é normal.\n"
     ]
    }
   ],
   "source": [
    "# Verificação da normalidade\n",
    "\n",
    "# Aplicação regular\n",
    "print('\\nResultado do teste de normalidade da aplicação regular da prova de Matemática:')\n",
    "testa_normalidade(prova_mt_aplicacao_regular)\n",
    "\n",
    "# Reaplicação\n",
    "print('\\nResultado do teste de normalidade da reaplicação da prova de Matemática:')\n",
    "testa_normalidade(prova_mt_reaplicacao)"
   ]
  },
  {
   "cell_type": "markdown",
   "id": "e6f0abe3",
   "metadata": {},
   "source": [
    "### 6.3.2. Aplicação do teste de hipótese"
   ]
  },
  {
   "cell_type": "code",
   "execution_count": 72,
   "id": "3dc7328b",
   "metadata": {},
   "outputs": [
    {
     "name": "stdout",
     "output_type": "stream",
     "text": [
      "p-value: 3.6153246445771875e-05\n",
      "H0 rejeitada: os valores de média são diferentes.\n"
     ]
    }
   ],
   "source": [
    "# Com as distribuições não são normais, realizaremos o teste de hipótese com o teste U (Mann_Whitney).\n",
    "\n",
    "# Comparação das notas na aplicação regular e na reaplicação da prova de Matemática.\n",
    "result = stats.mannwhitneyu(prova_mt_aplicacao_regular, prova_mt_reaplicacao)\n",
    "pvalue = result.pvalue\n",
    "\n",
    "print('p-value:', pvalue)\n",
    "\n",
    "if pvalue <= 0.05:\n",
    "  print('H0 rejeitada: os valores de média são diferentes.')\n",
    "else:\n",
    "  print('H0 aceita: os valores de média são iguais.')"
   ]
  },
  {
   "cell_type": "markdown",
   "id": "ae6898fc",
   "metadata": {},
   "source": [
    "# CONCLUSÃO"
   ]
  },
  {
   "cell_type": "markdown",
   "id": "6fe64726",
   "metadata": {},
   "source": [
    "A hipótese de que a aplicação regular e a reaplicação das quadro provas objetivas do Enem 2022 seriam equivalentes, permitindo que os participantes de cada uma das aplicações concorressem igualmente às vagas no ensino superior, foram rejeitadas para todas as áreas do conhecimento avaliadas. Para realização do teste de hipótese, foram comparadas as médias obtidas pelos participantes na aplicação regular e na reaplicação da prova AZUL de cada área do conhecimento.\n",
    "<br>\n",
    "\n",
    "**Em todas as áreas do conhecimentos, as médias obtidas na reaplicação foram maiores que as médias na aplicação regular.**"
   ]
  }
 ],
 "metadata": {
  "kernelspec": {
   "display_name": "Python 3 (ipykernel)",
   "language": "python",
   "name": "python3"
  },
  "language_info": {
   "codemirror_mode": {
    "name": "ipython",
    "version": 3
   },
   "file_extension": ".py",
   "mimetype": "text/x-python",
   "name": "python",
   "nbconvert_exporter": "python",
   "pygments_lexer": "ipython3",
   "version": "3.10.9"
  }
 },
 "nbformat": 4,
 "nbformat_minor": 5
}
